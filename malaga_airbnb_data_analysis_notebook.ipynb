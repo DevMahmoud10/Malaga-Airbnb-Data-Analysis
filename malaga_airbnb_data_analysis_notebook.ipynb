{
 "cells": [
  {
   "cell_type": "markdown",
   "metadata": {},
   "source": [
    "# Málaga Airbnb Data Analysis"
   ]
  },
  {
   "cell_type": "code",
   "execution_count": 1,
   "metadata": {},
   "outputs": [],
   "source": [
    "import pandas as pd\n",
    "import matplotlib.pyplot as plt\n",
    "import seaborn as sns\n",
    "from datetime import datetime\n",
    "%matplotlib inline"
   ]
  },
  {
   "cell_type": "markdown",
   "metadata": {},
   "source": [
    "In this notebook, I'll follow the CRISP-DM process to analyze Málaga Airbnb homes data and answer the following questions:\n",
    "- What is the perfect time of year to visit Málaga city ?\n",
    "- Which neighborhood is more affordable and less crowding ?\n",
    "- Which features is more involved in predicting price ?   \n",
    "\n",
    "\n",
    "by separating the notebook into 3 parts and show you the details that drive me to the answers"
   ]
  },
  {
   "cell_type": "markdown",
   "metadata": {},
   "source": [
    "## Part 1:\n",
    "<h2>What is the perfect time of year to visit Málaga city ?</h2>"
   ]
  },
  {
   "cell_type": "markdown",
   "metadata": {},
   "source": [
    "### 1.Gather"
   ]
  },
  {
   "cell_type": "code",
   "execution_count": 2,
   "metadata": {},
   "outputs": [],
   "source": [
    "calendar_df=pd.read_csv(\"data/calendar.zip\",compression='zip') #Loading calendar data"
   ]
  },
  {
   "cell_type": "markdown",
   "metadata": {},
   "source": [
    "### 2.Assess"
   ]
  },
  {
   "cell_type": "code",
   "execution_count": 3,
   "metadata": {},
   "outputs": [
    {
     "name": "stdout",
     "output_type": "stream",
     "text": [
      "<class 'pandas.core.frame.DataFrame'>\n",
      "RangeIndex: 2334175 entries, 0 to 2334174\n",
      "Data columns (total 7 columns):\n",
      "listing_id        int64\n",
      "date              object\n",
      "available         object\n",
      "price             object\n",
      "adjusted_price    object\n",
      "minimum_nights    int64\n",
      "maximum_nights    int64\n",
      "dtypes: int64(3), object(4)\n",
      "memory usage: 124.7+ MB\n"
     ]
    }
   ],
   "source": [
    "calendar_df.info()"
   ]
  },
  {
   "cell_type": "code",
   "execution_count": 4,
   "metadata": {},
   "outputs": [
    {
     "data": {
      "text/html": [
       "<div>\n",
       "<style scoped>\n",
       "    .dataframe tbody tr th:only-of-type {\n",
       "        vertical-align: middle;\n",
       "    }\n",
       "\n",
       "    .dataframe tbody tr th {\n",
       "        vertical-align: top;\n",
       "    }\n",
       "\n",
       "    .dataframe thead th {\n",
       "        text-align: right;\n",
       "    }\n",
       "</style>\n",
       "<table border=\"1\" class=\"dataframe\">\n",
       "  <thead>\n",
       "    <tr style=\"text-align: right;\">\n",
       "      <th></th>\n",
       "      <th>listing_id</th>\n",
       "      <th>minimum_nights</th>\n",
       "      <th>maximum_nights</th>\n",
       "    </tr>\n",
       "  </thead>\n",
       "  <tbody>\n",
       "    <tr>\n",
       "      <th>count</th>\n",
       "      <td>2.334175e+06</td>\n",
       "      <td>2.334175e+06</td>\n",
       "      <td>2.334175e+06</td>\n",
       "    </tr>\n",
       "    <tr>\n",
       "      <th>mean</th>\n",
       "      <td>2.637861e+07</td>\n",
       "      <td>4.369014e+00</td>\n",
       "      <td>8.335845e+02</td>\n",
       "    </tr>\n",
       "    <tr>\n",
       "      <th>std</th>\n",
       "      <td>1.122482e+07</td>\n",
       "      <td>2.753960e+01</td>\n",
       "      <td>4.675077e+02</td>\n",
       "    </tr>\n",
       "    <tr>\n",
       "      <th>min</th>\n",
       "      <td>9.603300e+04</td>\n",
       "      <td>1.000000e+00</td>\n",
       "      <td>1.000000e+00</td>\n",
       "    </tr>\n",
       "    <tr>\n",
       "      <th>25%</th>\n",
       "      <td>1.837136e+07</td>\n",
       "      <td>2.000000e+00</td>\n",
       "      <td>3.000000e+02</td>\n",
       "    </tr>\n",
       "    <tr>\n",
       "      <th>50%</th>\n",
       "      <td>2.708001e+07</td>\n",
       "      <td>2.000000e+00</td>\n",
       "      <td>1.125000e+03</td>\n",
       "    </tr>\n",
       "    <tr>\n",
       "      <th>75%</th>\n",
       "      <td>3.601766e+07</td>\n",
       "      <td>3.000000e+00</td>\n",
       "      <td>1.125000e+03</td>\n",
       "    </tr>\n",
       "    <tr>\n",
       "      <th>max</th>\n",
       "      <td>4.262131e+07</td>\n",
       "      <td>1.125000e+03</td>\n",
       "      <td>1.127000e+03</td>\n",
       "    </tr>\n",
       "  </tbody>\n",
       "</table>\n",
       "</div>"
      ],
      "text/plain": [
       "         listing_id  minimum_nights  maximum_nights\n",
       "count  2.334175e+06    2.334175e+06    2.334175e+06\n",
       "mean   2.637861e+07    4.369014e+00    8.335845e+02\n",
       "std    1.122482e+07    2.753960e+01    4.675077e+02\n",
       "min    9.603300e+04    1.000000e+00    1.000000e+00\n",
       "25%    1.837136e+07    2.000000e+00    3.000000e+02\n",
       "50%    2.708001e+07    2.000000e+00    1.125000e+03\n",
       "75%    3.601766e+07    3.000000e+00    1.125000e+03\n",
       "max    4.262131e+07    1.125000e+03    1.127000e+03"
      ]
     },
     "execution_count": 4,
     "metadata": {},
     "output_type": "execute_result"
    }
   ],
   "source": [
    "calendar_df.describe()"
   ]
  },
  {
   "cell_type": "code",
   "execution_count": 5,
   "metadata": {},
   "outputs": [
    {
     "data": {
      "text/plain": [
       "listing_id        0\n",
       "date              0\n",
       "available         0\n",
       "price             0\n",
       "adjusted_price    0\n",
       "minimum_nights    0\n",
       "maximum_nights    0\n",
       "dtype: int64"
      ]
     },
     "execution_count": 5,
     "metadata": {},
     "output_type": "execute_result"
    }
   ],
   "source": [
    "calendar_df.isna().sum()"
   ]
  },
  {
   "cell_type": "code",
   "execution_count": 6,
   "metadata": {},
   "outputs": [
    {
     "data": {
      "text/plain": [
       "0"
      ]
     },
     "execution_count": 6,
     "metadata": {},
     "output_type": "execute_result"
    }
   ],
   "source": [
    "calendar_df.duplicated().sum()"
   ]
  },
  {
   "cell_type": "markdown",
   "metadata": {},
   "source": [
    "### 3.Clean & Analyize"
   ]
  },
  {
   "cell_type": "code",
   "execution_count": 7,
   "metadata": {},
   "outputs": [
    {
     "data": {
      "text/html": [
       "<div>\n",
       "<style scoped>\n",
       "    .dataframe tbody tr th:only-of-type {\n",
       "        vertical-align: middle;\n",
       "    }\n",
       "\n",
       "    .dataframe tbody tr th {\n",
       "        vertical-align: top;\n",
       "    }\n",
       "\n",
       "    .dataframe thead th {\n",
       "        text-align: right;\n",
       "    }\n",
       "</style>\n",
       "<table border=\"1\" class=\"dataframe\">\n",
       "  <thead>\n",
       "    <tr style=\"text-align: right;\">\n",
       "      <th></th>\n",
       "      <th>price</th>\n",
       "    </tr>\n",
       "  </thead>\n",
       "  <tbody>\n",
       "    <tr>\n",
       "      <th>2291057</th>\n",
       "      <td>90.0</td>\n",
       "    </tr>\n",
       "    <tr>\n",
       "      <th>1454512</th>\n",
       "      <td>133.0</td>\n",
       "    </tr>\n",
       "    <tr>\n",
       "      <th>36746</th>\n",
       "      <td>50.0</td>\n",
       "    </tr>\n",
       "    <tr>\n",
       "      <th>1054938</th>\n",
       "      <td>99.0</td>\n",
       "    </tr>\n",
       "    <tr>\n",
       "      <th>2014430</th>\n",
       "      <td>18.0</td>\n",
       "    </tr>\n",
       "  </tbody>\n",
       "</table>\n",
       "</div>"
      ],
      "text/plain": [
       "         price\n",
       "2291057   90.0\n",
       "1454512  133.0\n",
       "36746     50.0\n",
       "1054938   99.0\n",
       "2014430   18.0"
      ]
     },
     "execution_count": 7,
     "metadata": {},
     "output_type": "execute_result"
    }
   ],
   "source": [
    "#remove '$' and ',' from price and cast it to float\n",
    "calendar_df.price=calendar_df.price.apply(lambda x:x[1:].replace(',','')).astype(float)\n",
    "pd.DataFrame(calendar_df['price'].sample(5))"
   ]
  },
  {
   "cell_type": "code",
   "execution_count": 8,
   "metadata": {},
   "outputs": [
    {
     "data": {
      "text/html": [
       "<div>\n",
       "<style scoped>\n",
       "    .dataframe tbody tr th:only-of-type {\n",
       "        vertical-align: middle;\n",
       "    }\n",
       "\n",
       "    .dataframe tbody tr th {\n",
       "        vertical-align: top;\n",
       "    }\n",
       "\n",
       "    .dataframe thead th {\n",
       "        text-align: right;\n",
       "    }\n",
       "</style>\n",
       "<table border=\"1\" class=\"dataframe\">\n",
       "  <thead>\n",
       "    <tr style=\"text-align: right;\">\n",
       "      <th></th>\n",
       "      <th>date</th>\n",
       "    </tr>\n",
       "  </thead>\n",
       "  <tbody>\n",
       "    <tr>\n",
       "      <th>2291728</th>\n",
       "      <td>2020-03-06</td>\n",
       "    </tr>\n",
       "    <tr>\n",
       "      <th>1557822</th>\n",
       "      <td>2020-03-30</td>\n",
       "    </tr>\n",
       "    <tr>\n",
       "      <th>742478</th>\n",
       "      <td>2020-06-28</td>\n",
       "    </tr>\n",
       "    <tr>\n",
       "      <th>1217853</th>\n",
       "      <td>2020-10-26</td>\n",
       "    </tr>\n",
       "    <tr>\n",
       "      <th>363475</th>\n",
       "      <td>2020-07-09</td>\n",
       "    </tr>\n",
       "  </tbody>\n",
       "</table>\n",
       "</div>"
      ],
      "text/plain": [
       "              date\n",
       "2291728 2020-03-06\n",
       "1557822 2020-03-30\n",
       "742478  2020-06-28\n",
       "1217853 2020-10-26\n",
       "363475  2020-07-09"
      ]
     },
     "execution_count": 8,
     "metadata": {},
     "output_type": "execute_result"
    }
   ],
   "source": [
    "#change 'date' column type from 'str' to 'datetime'\n",
    "calendar_df['date']=pd.to_datetime(calendar_df['date'])\n",
    "pd.DataFrame(calendar_df['date'].sample(5))"
   ]
  },
  {
   "cell_type": "markdown",
   "metadata": {},
   "source": [
    "### 4.Model and Visualize"
   ]
  },
  {
   "cell_type": "code",
   "execution_count": 9,
   "metadata": {},
   "outputs": [],
   "source": [
    "# Create new columns to split date to year, month, and day\n",
    "calendar_df['year'] = calendar_df['date'].dt.year\n",
    "calendar_df['month'] = calendar_df['date'].dt.month\n",
    "calendar_df['day'] = calendar_df['date'].dt.day"
   ]
  },
  {
   "cell_type": "code",
   "execution_count": 10,
   "metadata": {},
   "outputs": [
    {
     "data": {
      "text/html": [
       "<div>\n",
       "<style scoped>\n",
       "    .dataframe tbody tr th:only-of-type {\n",
       "        vertical-align: middle;\n",
       "    }\n",
       "\n",
       "    .dataframe tbody tr th {\n",
       "        vertical-align: top;\n",
       "    }\n",
       "\n",
       "    .dataframe thead th {\n",
       "        text-align: right;\n",
       "    }\n",
       "</style>\n",
       "<table border=\"1\" class=\"dataframe\">\n",
       "  <thead>\n",
       "    <tr style=\"text-align: right;\">\n",
       "      <th></th>\n",
       "      <th>listing_id</th>\n",
       "      <th>date</th>\n",
       "      <th>available</th>\n",
       "      <th>price</th>\n",
       "      <th>adjusted_price</th>\n",
       "      <th>minimum_nights</th>\n",
       "      <th>maximum_nights</th>\n",
       "      <th>year</th>\n",
       "      <th>month</th>\n",
       "      <th>day</th>\n",
       "    </tr>\n",
       "  </thead>\n",
       "  <tbody>\n",
       "    <tr>\n",
       "      <th>2038697</th>\n",
       "      <td>39625207</td>\n",
       "      <td>2020-09-12</td>\n",
       "      <td>f</td>\n",
       "      <td>35.0</td>\n",
       "      <td>$32.00</td>\n",
       "      <td>1</td>\n",
       "      <td>30</td>\n",
       "      <td>2020</td>\n",
       "      <td>9</td>\n",
       "      <td>12</td>\n",
       "    </tr>\n",
       "    <tr>\n",
       "      <th>1045802</th>\n",
       "      <td>25362217</td>\n",
       "      <td>2020-09-28</td>\n",
       "      <td>t</td>\n",
       "      <td>73.0</td>\n",
       "      <td>$73.00</td>\n",
       "      <td>2</td>\n",
       "      <td>999</td>\n",
       "      <td>2020</td>\n",
       "      <td>9</td>\n",
       "      <td>28</td>\n",
       "    </tr>\n",
       "    <tr>\n",
       "      <th>347421</th>\n",
       "      <td>14091245</td>\n",
       "      <td>2020-05-28</td>\n",
       "      <td>t</td>\n",
       "      <td>45.0</td>\n",
       "      <td>$45.00</td>\n",
       "      <td>3</td>\n",
       "      <td>250</td>\n",
       "      <td>2020</td>\n",
       "      <td>5</td>\n",
       "      <td>28</td>\n",
       "    </tr>\n",
       "  </tbody>\n",
       "</table>\n",
       "</div>"
      ],
      "text/plain": [
       "         listing_id       date available  price adjusted_price  \\\n",
       "2038697    39625207 2020-09-12         f   35.0         $32.00   \n",
       "1045802    25362217 2020-09-28         t   73.0         $73.00   \n",
       "347421     14091245 2020-05-28         t   45.0         $45.00   \n",
       "\n",
       "         minimum_nights  maximum_nights  year  month  day  \n",
       "2038697               1              30  2020      9   12  \n",
       "1045802               2             999  2020      9   28  \n",
       "347421                3             250  2020      5   28  "
      ]
     },
     "execution_count": 10,
     "metadata": {},
     "output_type": "execute_result"
    }
   ],
   "source": [
    "calendar_df.sample(3)"
   ]
  },
  {
   "cell_type": "code",
   "execution_count": 11,
   "metadata": {},
   "outputs": [
    {
     "data": {
      "text/html": [
       "<div>\n",
       "<style scoped>\n",
       "    .dataframe tbody tr th:only-of-type {\n",
       "        vertical-align: middle;\n",
       "    }\n",
       "\n",
       "    .dataframe tbody tr th {\n",
       "        vertical-align: top;\n",
       "    }\n",
       "\n",
       "    .dataframe thead th {\n",
       "        text-align: right;\n",
       "    }\n",
       "</style>\n",
       "<table border=\"1\" class=\"dataframe\">\n",
       "  <thead>\n",
       "    <tr style=\"text-align: right;\">\n",
       "      <th></th>\n",
       "      <th>available</th>\n",
       "    </tr>\n",
       "  </thead>\n",
       "  <tbody>\n",
       "    <tr>\n",
       "      <th>t</th>\n",
       "      <td>1317120</td>\n",
       "    </tr>\n",
       "    <tr>\n",
       "      <th>f</th>\n",
       "      <td>1017055</td>\n",
       "    </tr>\n",
       "  </tbody>\n",
       "</table>\n",
       "</div>"
      ],
      "text/plain": [
       "   available\n",
       "t    1317120\n",
       "f    1017055"
      ]
     },
     "execution_count": 11,
     "metadata": {},
     "output_type": "execute_result"
    }
   ],
   "source": [
    "#check values of available column\n",
    "pd.DataFrame(calendar_df.available.value_counts())"
   ]
  },
  {
   "cell_type": "code",
   "execution_count": 12,
   "metadata": {},
   "outputs": [
    {
     "data": {
      "text/html": [
       "<div>\n",
       "<style scoped>\n",
       "    .dataframe tbody tr th:only-of-type {\n",
       "        vertical-align: middle;\n",
       "    }\n",
       "\n",
       "    .dataframe tbody tr th {\n",
       "        vertical-align: top;\n",
       "    }\n",
       "\n",
       "    .dataframe thead th {\n",
       "        text-align: right;\n",
       "    }\n",
       "</style>\n",
       "<table border=\"1\" class=\"dataframe\">\n",
       "  <thead>\n",
       "    <tr style=\"text-align: right;\">\n",
       "      <th></th>\n",
       "      <th>available</th>\n",
       "    </tr>\n",
       "  </thead>\n",
       "  <tbody>\n",
       "    <tr>\n",
       "      <th>1</th>\n",
       "      <td>1317120</td>\n",
       "    </tr>\n",
       "    <tr>\n",
       "      <th>0</th>\n",
       "      <td>1017055</td>\n",
       "    </tr>\n",
       "  </tbody>\n",
       "</table>\n",
       "</div>"
      ],
      "text/plain": [
       "   available\n",
       "1    1317120\n",
       "0    1017055"
      ]
     },
     "execution_count": 12,
     "metadata": {},
     "output_type": "execute_result"
    }
   ],
   "source": [
    "#convert available value from t to 1 and f to 0\n",
    "calendar_df.available=calendar_df.available.map({'t':1,'f':0})\n",
    "pd.DataFrame(calendar_df['available'].value_counts())"
   ]
  },
  {
   "cell_type": "code",
   "execution_count": 13,
   "metadata": {},
   "outputs": [
    {
     "data": {
      "text/html": [
       "<div>\n",
       "<style scoped>\n",
       "    .dataframe tbody tr th:only-of-type {\n",
       "        vertical-align: middle;\n",
       "    }\n",
       "\n",
       "    .dataframe tbody tr th {\n",
       "        vertical-align: top;\n",
       "    }\n",
       "\n",
       "    .dataframe thead th {\n",
       "        text-align: right;\n",
       "    }\n",
       "</style>\n",
       "<table border=\"1\" class=\"dataframe\">\n",
       "  <thead>\n",
       "    <tr style=\"text-align: right;\">\n",
       "      <th></th>\n",
       "      <th>available</th>\n",
       "    </tr>\n",
       "    <tr>\n",
       "      <th>month</th>\n",
       "      <th></th>\n",
       "    </tr>\n",
       "  </thead>\n",
       "  <tbody>\n",
       "    <tr>\n",
       "      <th>7</th>\n",
       "      <td>0.625312</td>\n",
       "    </tr>\n",
       "    <tr>\n",
       "      <th>8</th>\n",
       "      <td>0.619622</td>\n",
       "    </tr>\n",
       "    <tr>\n",
       "      <th>5</th>\n",
       "      <td>0.618306</td>\n",
       "    </tr>\n",
       "    <tr>\n",
       "      <th>6</th>\n",
       "      <td>0.608314</td>\n",
       "    </tr>\n",
       "    <tr>\n",
       "      <th>9</th>\n",
       "      <td>0.604154</td>\n",
       "    </tr>\n",
       "    <tr>\n",
       "      <th>10</th>\n",
       "      <td>0.599546</td>\n",
       "    </tr>\n",
       "    <tr>\n",
       "      <th>11</th>\n",
       "      <td>0.599364</td>\n",
       "    </tr>\n",
       "    <tr>\n",
       "      <th>4</th>\n",
       "      <td>0.541089</td>\n",
       "    </tr>\n",
       "    <tr>\n",
       "      <th>12</th>\n",
       "      <td>0.538036</td>\n",
       "    </tr>\n",
       "    <tr>\n",
       "      <th>1</th>\n",
       "      <td>0.480592</td>\n",
       "    </tr>\n",
       "    <tr>\n",
       "      <th>2</th>\n",
       "      <td>0.468323</td>\n",
       "    </tr>\n",
       "    <tr>\n",
       "      <th>3</th>\n",
       "      <td>0.462463</td>\n",
       "    </tr>\n",
       "  </tbody>\n",
       "</table>\n",
       "</div>"
      ],
      "text/plain": [
       "       available\n",
       "month           \n",
       "7       0.625312\n",
       "8       0.619622\n",
       "5       0.618306\n",
       "6       0.608314\n",
       "9       0.604154\n",
       "10      0.599546\n",
       "11      0.599364\n",
       "4       0.541089\n",
       "12      0.538036\n",
       "1       0.480592\n",
       "2       0.468323\n",
       "3       0.462463"
      ]
     },
     "execution_count": 13,
     "metadata": {},
     "output_type": "execute_result"
    }
   ],
   "source": [
    "month_availability=calendar_df.groupby(['month'])['available'].mean().sort_values(ascending=False)\n",
    "pd.DataFrame(month_availability)"
   ]
  },
  {
   "cell_type": "code",
   "execution_count": 14,
   "metadata": {},
   "outputs": [
    {
     "data": {
      "text/html": [
       "<div>\n",
       "<style scoped>\n",
       "    .dataframe tbody tr th:only-of-type {\n",
       "        vertical-align: middle;\n",
       "    }\n",
       "\n",
       "    .dataframe tbody tr th {\n",
       "        vertical-align: top;\n",
       "    }\n",
       "\n",
       "    .dataframe thead th {\n",
       "        text-align: right;\n",
       "    }\n",
       "</style>\n",
       "<table border=\"1\" class=\"dataframe\">\n",
       "  <thead>\n",
       "    <tr style=\"text-align: right;\">\n",
       "      <th></th>\n",
       "      <th>available</th>\n",
       "    </tr>\n",
       "  </thead>\n",
       "  <tbody>\n",
       "    <tr>\n",
       "      <th>count</th>\n",
       "      <td>12.000000</td>\n",
       "    </tr>\n",
       "    <tr>\n",
       "      <th>mean</th>\n",
       "      <td>0.563760</td>\n",
       "    </tr>\n",
       "    <tr>\n",
       "      <th>std</th>\n",
       "      <td>0.062893</td>\n",
       "    </tr>\n",
       "    <tr>\n",
       "      <th>min</th>\n",
       "      <td>0.462463</td>\n",
       "    </tr>\n",
       "    <tr>\n",
       "      <th>25%</th>\n",
       "      <td>0.523675</td>\n",
       "    </tr>\n",
       "    <tr>\n",
       "      <th>50%</th>\n",
       "      <td>0.599455</td>\n",
       "    </tr>\n",
       "    <tr>\n",
       "      <th>75%</th>\n",
       "      <td>0.610812</td>\n",
       "    </tr>\n",
       "    <tr>\n",
       "      <th>max</th>\n",
       "      <td>0.625312</td>\n",
       "    </tr>\n",
       "  </tbody>\n",
       "</table>\n",
       "</div>"
      ],
      "text/plain": [
       "       available\n",
       "count  12.000000\n",
       "mean    0.563760\n",
       "std     0.062893\n",
       "min     0.462463\n",
       "25%     0.523675\n",
       "50%     0.599455\n",
       "75%     0.610812\n",
       "max     0.625312"
      ]
     },
     "execution_count": 14,
     "metadata": {},
     "output_type": "execute_result"
    }
   ],
   "source": [
    "#some stats about month_availability\n",
    "pd.DataFrame(month_availability.describe())"
   ]
  },
  {
   "cell_type": "code",
   "execution_count": 15,
   "metadata": {},
   "outputs": [
    {
     "data": {
      "text/plain": [
       "[7, 8, 5]"
      ]
     },
     "execution_count": 15,
     "metadata": {},
     "output_type": "execute_result"
    }
   ],
   "source": [
    "# I'll consider months with the average amount of available present over 0.61 to be active (above 75% of data)\n",
    "active_months_val=month_availability[month_availability>0.61]\n",
    "active_months=active_months_val.index.tolist()\n",
    "active_months"
   ]
  },
  {
   "cell_type": "code",
   "execution_count": 16,
   "metadata": {},
   "outputs": [
    {
     "data": {
      "text/plain": [
       "[1, 2, 3]"
      ]
     },
     "execution_count": 16,
     "metadata": {},
     "output_type": "execute_result"
    }
   ],
   "source": [
    "# and I'll consider months with the average amount of available present under 0.52 to be inactive (below 25% of data)\n",
    "inactive_months_val=month_availability[month_availability<0.523]\n",
    "\n",
    "# Get names of active months\n",
    "inactive_months=inactive_months_val.index.tolist()\n",
    "inactive_months"
   ]
  },
  {
   "cell_type": "code",
   "execution_count": 17,
   "metadata": {},
   "outputs": [
    {
     "data": {
      "image/png": "[encoded data removed]",
      "text/plain": [
       "<Figure size 720x288 with 1 Axes>"
      ]
     },
     "metadata": {
      "needs_background": "light"
     },
     "output_type": "display_data"
    }
   ],
   "source": [
    "#Plot Availability by month\n",
    "plt.figure(figsize=(10,4))\n",
    "plt.plot(month_availability.sort_index(), 'o-')\n",
    "plt.title('Availability by month')\n",
    "plt.show()"
   ]
  },
  {
   "cell_type": "markdown",
   "metadata": {},
   "source": [
    "- Based on the above graph:\n",
    "    - May, July, and August are the most available time of the year to visit Malaga city.\n",
    "    - January, February and March are the least."
   ]
  },
  {
   "cell_type": "markdown",
   "metadata": {},
   "source": [
    "But what about days let's try to explore it"
   ]
  },
  {
   "cell_type": "markdown",
   "metadata": {},
   "source": [
    "#### I. Active Days"
   ]
  },
  {
   "cell_type": "code",
   "execution_count": 18,
   "metadata": {},
   "outputs": [
    {
     "data": {
      "text/html": [
       "<div>\n",
       "<style scoped>\n",
       "    .dataframe tbody tr th:only-of-type {\n",
       "        vertical-align: middle;\n",
       "    }\n",
       "\n",
       "    .dataframe tbody tr th {\n",
       "        vertical-align: top;\n",
       "    }\n",
       "\n",
       "    .dataframe thead th {\n",
       "        text-align: right;\n",
       "    }\n",
       "</style>\n",
       "<table border=\"1\" class=\"dataframe\">\n",
       "  <thead>\n",
       "    <tr style=\"text-align: right;\">\n",
       "      <th></th>\n",
       "      <th>available</th>\n",
       "    </tr>\n",
       "    <tr>\n",
       "      <th>day</th>\n",
       "      <th></th>\n",
       "    </tr>\n",
       "  </thead>\n",
       "  <tbody>\n",
       "    <tr>\n",
       "      <th>27</th>\n",
       "      <td>0.659004</td>\n",
       "    </tr>\n",
       "    <tr>\n",
       "      <th>26</th>\n",
       "      <td>0.658952</td>\n",
       "    </tr>\n",
       "    <tr>\n",
       "      <th>25</th>\n",
       "      <td>0.652906</td>\n",
       "    </tr>\n",
       "    <tr>\n",
       "      <th>24</th>\n",
       "      <td>0.646547</td>\n",
       "    </tr>\n",
       "    <tr>\n",
       "      <th>12</th>\n",
       "      <td>0.636800</td>\n",
       "    </tr>\n",
       "    <tr>\n",
       "      <th>28</th>\n",
       "      <td>0.635757</td>\n",
       "    </tr>\n",
       "    <tr>\n",
       "      <th>13</th>\n",
       "      <td>0.632317</td>\n",
       "    </tr>\n",
       "    <tr>\n",
       "      <th>31</th>\n",
       "      <td>0.632004</td>\n",
       "    </tr>\n",
       "    <tr>\n",
       "      <th>23</th>\n",
       "      <td>0.631691</td>\n",
       "    </tr>\n",
       "    <tr>\n",
       "      <th>29</th>\n",
       "      <td>0.629346</td>\n",
       "    </tr>\n",
       "    <tr>\n",
       "      <th>6</th>\n",
       "      <td>0.627834</td>\n",
       "    </tr>\n",
       "    <tr>\n",
       "      <th>19</th>\n",
       "      <td>0.626792</td>\n",
       "    </tr>\n",
       "    <tr>\n",
       "      <th>5</th>\n",
       "      <td>0.625801</td>\n",
       "    </tr>\n",
       "    <tr>\n",
       "      <th>11</th>\n",
       "      <td>0.625593</td>\n",
       "    </tr>\n",
       "    <tr>\n",
       "      <th>10</th>\n",
       "      <td>0.622361</td>\n",
       "    </tr>\n",
       "    <tr>\n",
       "      <th>30</th>\n",
       "      <td>0.620485</td>\n",
       "    </tr>\n",
       "    <tr>\n",
       "      <th>7</th>\n",
       "      <td>0.619442</td>\n",
       "    </tr>\n",
       "    <tr>\n",
       "      <th>20</th>\n",
       "      <td>0.619077</td>\n",
       "    </tr>\n",
       "    <tr>\n",
       "      <th>18</th>\n",
       "      <td>0.618921</td>\n",
       "    </tr>\n",
       "    <tr>\n",
       "      <th>4</th>\n",
       "      <td>0.617670</td>\n",
       "    </tr>\n",
       "    <tr>\n",
       "      <th>3</th>\n",
       "      <td>0.612510</td>\n",
       "    </tr>\n",
       "    <tr>\n",
       "      <th>9</th>\n",
       "      <td>0.611780</td>\n",
       "    </tr>\n",
       "    <tr>\n",
       "      <th>21</th>\n",
       "      <td>0.611311</td>\n",
       "    </tr>\n",
       "    <tr>\n",
       "      <th>17</th>\n",
       "      <td>0.609747</td>\n",
       "    </tr>\n",
       "    <tr>\n",
       "      <th>22</th>\n",
       "      <td>0.608392</td>\n",
       "    </tr>\n",
       "    <tr>\n",
       "      <th>8</th>\n",
       "      <td>0.608288</td>\n",
       "    </tr>\n",
       "    <tr>\n",
       "      <th>14</th>\n",
       "      <td>0.605108</td>\n",
       "    </tr>\n",
       "    <tr>\n",
       "      <th>16</th>\n",
       "      <td>0.589888</td>\n",
       "    </tr>\n",
       "    <tr>\n",
       "      <th>2</th>\n",
       "      <td>0.589523</td>\n",
       "    </tr>\n",
       "    <tr>\n",
       "      <th>1</th>\n",
       "      <td>0.584780</td>\n",
       "    </tr>\n",
       "    <tr>\n",
       "      <th>15</th>\n",
       "      <td>0.582851</td>\n",
       "    </tr>\n",
       "  </tbody>\n",
       "</table>\n",
       "</div>"
      ],
      "text/plain": [
       "     available\n",
       "day           \n",
       "27    0.659004\n",
       "26    0.658952\n",
       "25    0.652906\n",
       "24    0.646547\n",
       "12    0.636800\n",
       "28    0.635757\n",
       "13    0.632317\n",
       "31    0.632004\n",
       "23    0.631691\n",
       "29    0.629346\n",
       "6     0.627834\n",
       "19    0.626792\n",
       "5     0.625801\n",
       "11    0.625593\n",
       "10    0.622361\n",
       "30    0.620485\n",
       "7     0.619442\n",
       "20    0.619077\n",
       "18    0.618921\n",
       "4     0.617670\n",
       "3     0.612510\n",
       "9     0.611780\n",
       "21    0.611311\n",
       "17    0.609747\n",
       "22    0.608392\n",
       "8     0.608288\n",
       "14    0.605108\n",
       "16    0.589888\n",
       "2     0.589523\n",
       "1     0.584780\n",
       "15    0.582851"
      ]
     },
     "execution_count": 18,
     "metadata": {},
     "output_type": "execute_result"
    }
   ],
   "source": [
    "# Separate the active months in another dataframe\n",
    "active_months_df=calendar_df[calendar_df['month'].isin(active_months)] \n",
    "\n",
    "# Count of availability for each day\n",
    "active_months_available_days=active_months_df.groupby(['day'])['available'].mean().sort_values(ascending=False)\n",
    "pd.DataFrame(active_months_available_days)"
   ]
  },
  {
   "cell_type": "code",
   "execution_count": 19,
   "metadata": {},
   "outputs": [
    {
     "data": {
      "image/png": "[encoded data removed]",
      "text/plain": [
       "<Figure size 720x288 with 1 Axes>"
      ]
     },
     "metadata": {
      "needs_background": "light"
     },
     "output_type": "display_data"
    }
   ],
   "source": [
    "#Plot Availability by Day in active months\n",
    "plt.figure(figsize=(10,4))\n",
    "plt.plot(active_months_available_days.sort_index(), 'o-')\n",
    "plt.title('Availability by day in active months')\n",
    "plt.show()"
   ]
  },
  {
   "cell_type": "markdown",
   "metadata": {},
   "source": [
    "#### II. Inactive Days"
   ]
  },
  {
   "cell_type": "code",
   "execution_count": 20,
   "metadata": {},
   "outputs": [
    {
     "data": {
      "text/html": [
       "<div>\n",
       "<style scoped>\n",
       "    .dataframe tbody tr th:only-of-type {\n",
       "        vertical-align: middle;\n",
       "    }\n",
       "\n",
       "    .dataframe tbody tr th {\n",
       "        vertical-align: top;\n",
       "    }\n",
       "\n",
       "    .dataframe thead th {\n",
       "        text-align: right;\n",
       "    }\n",
       "</style>\n",
       "<table border=\"1\" class=\"dataframe\">\n",
       "  <thead>\n",
       "    <tr style=\"text-align: right;\">\n",
       "      <th></th>\n",
       "      <th>available</th>\n",
       "    </tr>\n",
       "    <tr>\n",
       "      <th>day</th>\n",
       "      <th></th>\n",
       "    </tr>\n",
       "  </thead>\n",
       "  <tbody>\n",
       "    <tr>\n",
       "      <th>31</th>\n",
       "      <td>0.526349</td>\n",
       "    </tr>\n",
       "    <tr>\n",
       "      <th>30</th>\n",
       "      <td>0.517748</td>\n",
       "    </tr>\n",
       "    <tr>\n",
       "      <th>29</th>\n",
       "      <td>0.505395</td>\n",
       "    </tr>\n",
       "    <tr>\n",
       "      <th>24</th>\n",
       "      <td>0.499661</td>\n",
       "    </tr>\n",
       "    <tr>\n",
       "      <th>25</th>\n",
       "      <td>0.496846</td>\n",
       "    </tr>\n",
       "    <tr>\n",
       "      <th>23</th>\n",
       "      <td>0.495856</td>\n",
       "    </tr>\n",
       "    <tr>\n",
       "      <th>17</th>\n",
       "      <td>0.489653</td>\n",
       "    </tr>\n",
       "    <tr>\n",
       "      <th>26</th>\n",
       "      <td>0.489601</td>\n",
       "    </tr>\n",
       "    <tr>\n",
       "      <th>10</th>\n",
       "      <td>0.488350</td>\n",
       "    </tr>\n",
       "    <tr>\n",
       "      <th>11</th>\n",
       "      <td>0.487360</td>\n",
       "    </tr>\n",
       "    <tr>\n",
       "      <th>16</th>\n",
       "      <td>0.487047</td>\n",
       "    </tr>\n",
       "    <tr>\n",
       "      <th>18</th>\n",
       "      <td>0.486943</td>\n",
       "    </tr>\n",
       "    <tr>\n",
       "      <th>22</th>\n",
       "      <td>0.484076</td>\n",
       "    </tr>\n",
       "    <tr>\n",
       "      <th>9</th>\n",
       "      <td>0.479698</td>\n",
       "    </tr>\n",
       "    <tr>\n",
       "      <th>12</th>\n",
       "      <td>0.478603</td>\n",
       "    </tr>\n",
       "    <tr>\n",
       "      <th>3</th>\n",
       "      <td>0.477821</td>\n",
       "    </tr>\n",
       "    <tr>\n",
       "      <th>15</th>\n",
       "      <td>0.475632</td>\n",
       "    </tr>\n",
       "    <tr>\n",
       "      <th>4</th>\n",
       "      <td>0.474642</td>\n",
       "    </tr>\n",
       "    <tr>\n",
       "      <th>19</th>\n",
       "      <td>0.469690</td>\n",
       "    </tr>\n",
       "    <tr>\n",
       "      <th>27</th>\n",
       "      <td>0.468491</td>\n",
       "    </tr>\n",
       "    <tr>\n",
       "      <th>2</th>\n",
       "      <td>0.465676</td>\n",
       "    </tr>\n",
       "    <tr>\n",
       "      <th>28</th>\n",
       "      <td>0.462236</td>\n",
       "    </tr>\n",
       "    <tr>\n",
       "      <th>8</th>\n",
       "      <td>0.461089</td>\n",
       "    </tr>\n",
       "    <tr>\n",
       "      <th>13</th>\n",
       "      <td>0.453896</td>\n",
       "    </tr>\n",
       "    <tr>\n",
       "      <th>5</th>\n",
       "      <td>0.449518</td>\n",
       "    </tr>\n",
       "    <tr>\n",
       "      <th>14</th>\n",
       "      <td>0.444775</td>\n",
       "    </tr>\n",
       "    <tr>\n",
       "      <th>20</th>\n",
       "      <td>0.443002</td>\n",
       "    </tr>\n",
       "    <tr>\n",
       "      <th>21</th>\n",
       "      <td>0.435653</td>\n",
       "    </tr>\n",
       "    <tr>\n",
       "      <th>6</th>\n",
       "      <td>0.420172</td>\n",
       "    </tr>\n",
       "    <tr>\n",
       "      <th>7</th>\n",
       "      <td>0.409591</td>\n",
       "    </tr>\n",
       "    <tr>\n",
       "      <th>1</th>\n",
       "      <td>0.407349</td>\n",
       "    </tr>\n",
       "  </tbody>\n",
       "</table>\n",
       "</div>"
      ],
      "text/plain": [
       "     available\n",
       "day           \n",
       "31    0.526349\n",
       "30    0.517748\n",
       "29    0.505395\n",
       "24    0.499661\n",
       "25    0.496846\n",
       "23    0.495856\n",
       "17    0.489653\n",
       "26    0.489601\n",
       "10    0.488350\n",
       "11    0.487360\n",
       "16    0.487047\n",
       "18    0.486943\n",
       "22    0.484076\n",
       "9     0.479698\n",
       "12    0.478603\n",
       "3     0.477821\n",
       "15    0.475632\n",
       "4     0.474642\n",
       "19    0.469690\n",
       "27    0.468491\n",
       "2     0.465676\n",
       "28    0.462236\n",
       "8     0.461089\n",
       "13    0.453896\n",
       "5     0.449518\n",
       "14    0.444775\n",
       "20    0.443002\n",
       "21    0.435653\n",
       "6     0.420172\n",
       "7     0.409591\n",
       "1     0.407349"
      ]
     },
     "execution_count": 20,
     "metadata": {},
     "output_type": "execute_result"
    }
   ],
   "source": [
    "# Separate the inactive months in another dataframe\n",
    "inactive_months_df=calendar_df[calendar_df['month'].isin(inactive_months)] \n",
    "\n",
    "# Count of availability for each day\n",
    "inactive_months_available_days=inactive_months_df.groupby(['day'])['available'].mean().sort_values(ascending=False)\n",
    "pd.DataFrame(inactive_months_available_days)"
   ]
  },
  {
   "cell_type": "code",
   "execution_count": 21,
   "metadata": {},
   "outputs": [
    {
     "data": {
      "image/png": "[encoded data removed]",
      "text/plain": [
       "<Figure size 720x288 with 1 Axes>"
      ]
     },
     "metadata": {
      "needs_background": "light"
     },
     "output_type": "display_data"
    }
   ],
   "source": [
    "#Plot Availability by Day in inactive months\n",
    "plt.figure(figsize=(10,4))\n",
    "plt.plot(inactive_months_available_days.sort_index(), 'o-')\n",
    "plt.title('Availability by day in inactive months')\n",
    "plt.show()"
   ]
  },
  {
   "cell_type": "markdown",
   "metadata": {},
   "source": [
    "All the above exploring was about availability but what about price let's take it a look"
   ]
  },
  {
   "cell_type": "code",
   "execution_count": 22,
   "metadata": {},
   "outputs": [
    {
     "data": {
      "text/html": [
       "<div>\n",
       "<style scoped>\n",
       "    .dataframe tbody tr th:only-of-type {\n",
       "        vertical-align: middle;\n",
       "    }\n",
       "\n",
       "    .dataframe tbody tr th {\n",
       "        vertical-align: top;\n",
       "    }\n",
       "\n",
       "    .dataframe thead th {\n",
       "        text-align: right;\n",
       "    }\n",
       "</style>\n",
       "<table border=\"1\" class=\"dataframe\">\n",
       "  <thead>\n",
       "    <tr style=\"text-align: right;\">\n",
       "      <th></th>\n",
       "      <th>price</th>\n",
       "    </tr>\n",
       "    <tr>\n",
       "      <th>month</th>\n",
       "      <th></th>\n",
       "    </tr>\n",
       "  </thead>\n",
       "  <tbody>\n",
       "    <tr>\n",
       "      <th>2</th>\n",
       "      <td>407.867346</td>\n",
       "    </tr>\n",
       "    <tr>\n",
       "      <th>1</th>\n",
       "      <td>382.065429</td>\n",
       "    </tr>\n",
       "    <tr>\n",
       "      <th>12</th>\n",
       "      <td>164.219108</td>\n",
       "    </tr>\n",
       "    <tr>\n",
       "      <th>9</th>\n",
       "      <td>156.181324</td>\n",
       "    </tr>\n",
       "    <tr>\n",
       "      <th>10</th>\n",
       "      <td>150.027264</td>\n",
       "    </tr>\n",
       "    <tr>\n",
       "      <th>11</th>\n",
       "      <td>147.509950</td>\n",
       "    </tr>\n",
       "    <tr>\n",
       "      <th>8</th>\n",
       "      <td>146.121547</td>\n",
       "    </tr>\n",
       "    <tr>\n",
       "      <th>7</th>\n",
       "      <td>124.526354</td>\n",
       "    </tr>\n",
       "    <tr>\n",
       "      <th>6</th>\n",
       "      <td>110.661704</td>\n",
       "    </tr>\n",
       "    <tr>\n",
       "      <th>4</th>\n",
       "      <td>108.988527</td>\n",
       "    </tr>\n",
       "    <tr>\n",
       "      <th>5</th>\n",
       "      <td>101.945477</td>\n",
       "    </tr>\n",
       "    <tr>\n",
       "      <th>3</th>\n",
       "      <td>89.849106</td>\n",
       "    </tr>\n",
       "  </tbody>\n",
       "</table>\n",
       "</div>"
      ],
      "text/plain": [
       "            price\n",
       "month            \n",
       "2      407.867346\n",
       "1      382.065429\n",
       "12     164.219108\n",
       "9      156.181324\n",
       "10     150.027264\n",
       "11     147.509950\n",
       "8      146.121547\n",
       "7      124.526354\n",
       "6      110.661704\n",
       "4      108.988527\n",
       "5      101.945477\n",
       "3       89.849106"
      ]
     },
     "execution_count": 22,
     "metadata": {},
     "output_type": "execute_result"
    }
   ],
   "source": [
    "# Average price per months\n",
    "month_price=calendar_df.groupby(['month'])['price'].mean().sort_values(ascending=False)\n",
    "pd.DataFrame(month_price)"
   ]
  },
  {
   "cell_type": "code",
   "execution_count": 23,
   "metadata": {},
   "outputs": [
    {
     "data": {
      "image/png": "[encoded data removed]",
      "text/plain": [
       "<Figure size 720x288 with 1 Axes>"
      ]
     },
     "metadata": {
      "needs_background": "light"
     },
     "output_type": "display_data"
    }
   ],
   "source": [
    "plt.figure(figsize=(10,4))\n",
    "plt.title('Months Average Prices')\n",
    "plt.plot(month_price.sort_index(), 'o-');"
   ]
  },
  {
   "cell_type": "code",
   "execution_count": 24,
   "metadata": {},
   "outputs": [
    {
     "data": {
      "text/html": [
       "<div>\n",
       "<style scoped>\n",
       "    .dataframe tbody tr th:only-of-type {\n",
       "        vertical-align: middle;\n",
       "    }\n",
       "\n",
       "    .dataframe tbody tr th {\n",
       "        vertical-align: top;\n",
       "    }\n",
       "\n",
       "    .dataframe thead th {\n",
       "        text-align: right;\n",
       "    }\n",
       "</style>\n",
       "<table border=\"1\" class=\"dataframe\">\n",
       "  <thead>\n",
       "    <tr style=\"text-align: right;\">\n",
       "      <th></th>\n",
       "      <th>price</th>\n",
       "    </tr>\n",
       "  </thead>\n",
       "  <tbody>\n",
       "    <tr>\n",
       "      <th>count</th>\n",
       "      <td>12.000000</td>\n",
       "    </tr>\n",
       "    <tr>\n",
       "      <th>mean</th>\n",
       "      <td>174.163595</td>\n",
       "    </tr>\n",
       "    <tr>\n",
       "      <th>std</th>\n",
       "      <td>105.920524</td>\n",
       "    </tr>\n",
       "    <tr>\n",
       "      <th>min</th>\n",
       "      <td>89.849106</td>\n",
       "    </tr>\n",
       "    <tr>\n",
       "      <th>25%</th>\n",
       "      <td>110.243410</td>\n",
       "    </tr>\n",
       "    <tr>\n",
       "      <th>50%</th>\n",
       "      <td>146.815749</td>\n",
       "    </tr>\n",
       "    <tr>\n",
       "      <th>75%</th>\n",
       "      <td>158.190770</td>\n",
       "    </tr>\n",
       "    <tr>\n",
       "      <th>max</th>\n",
       "      <td>407.867346</td>\n",
       "    </tr>\n",
       "  </tbody>\n",
       "</table>\n",
       "</div>"
      ],
      "text/plain": [
       "            price\n",
       "count   12.000000\n",
       "mean   174.163595\n",
       "std    105.920524\n",
       "min     89.849106\n",
       "25%    110.243410\n",
       "50%    146.815749\n",
       "75%    158.190770\n",
       "max    407.867346"
      ]
     },
     "execution_count": 24,
     "metadata": {},
     "output_type": "execute_result"
    }
   ],
   "source": [
    "# Get statistical information\n",
    "pd.DataFrame(month_price.describe())"
   ]
  },
  {
   "cell_type": "code",
   "execution_count": 25,
   "metadata": {},
   "outputs": [
    {
     "data": {
      "text/plain": [
       "[2, 1, 12]"
      ]
     },
     "execution_count": 25,
     "metadata": {},
     "output_type": "execute_result"
    }
   ],
   "source": [
    "# Consider months with avergae price over 158 to be expensive (above 75% of data)\n",
    "high_price_months=month_price[month_price>158]\n",
    "\n",
    "# Get names of high price months\n",
    "expensive_months=high_price_months.index.tolist()\n",
    "expensive_months"
   ]
  },
  {
   "cell_type": "code",
   "execution_count": 26,
   "metadata": {},
   "outputs": [
    {
     "data": {
      "text/plain": [
       "[4, 5, 3]"
      ]
     },
     "execution_count": 26,
     "metadata": {},
     "output_type": "execute_result"
    }
   ],
   "source": [
    "# Consider months with avergae price over 110 to be expensive (less 25% of data)\n",
    "low_price_months=month_price[month_price<110]\n",
    "\n",
    "# Get names of high price months\n",
    "cheap_months=low_price_months.index.tolist()\n",
    "cheap_months"
   ]
  },
  {
   "cell_type": "markdown",
   "metadata": {},
   "source": [
    "- Based on the above analyzing:\n",
    "    - Prices increase in Winter season, mostly in December, January and February\n",
    "    - Prices decrease in Spring season in March, April and May\n",
    "    \n",
    "So we can apply some rules to get the best time to visit Malaga:"
   ]
  },
  {
   "cell_type": "code",
   "execution_count": 27,
   "metadata": {},
   "outputs": [
    {
     "name": "stdout",
     "output_type": "stream",
     "text": [
      "Active and expensive months : []\n",
      "Inactive and expensive months : [1, 2]\n",
      "Active and cheap months : [5]\n",
      "Inactive and cheap months : [3]\n"
     ]
    }
   ],
   "source": [
    "# Get active and expensive months\n",
    "print(\"Active and expensive months :\",list(set(expensive_months) & set(active_months)))\n",
    "# Get inactive and expensive months\n",
    "print(\"Inactive and expensive months :\",list(set(expensive_months) & set(inactive_months)))\n",
    "# Get active and cheap months\n",
    "print(\"Active and cheap months :\",list(set(cheap_months) & set(active_months)))\n",
    "# Get inactive and cheap months\n",
    "print(\"Inactive and cheap months :\",list(set(cheap_months) & set(inactive_months)))"
   ]
  },
  {
   "cell_type": "markdown",
   "metadata": {},
   "source": [
    "#### In Conclusion\n",
    "\"March is the less crowded and most affordable time in year to visit Malaga\""
   ]
  },
  {
   "cell_type": "markdown",
   "metadata": {},
   "source": [
    "## Part 2:\n",
    "<h2>Which neighborhood is more affordable and less crowding ?</h2>"
   ]
  },
  {
   "cell_type": "markdown",
   "metadata": {},
   "source": [
    "### 1.Gather"
   ]
  },
  {
   "cell_type": "code",
   "execution_count": 28,
   "metadata": {},
   "outputs": [
    {
     "data": {
      "text/html": [
       "<div>\n",
       "<style scoped>\n",
       "    .dataframe tbody tr th:only-of-type {\n",
       "        vertical-align: middle;\n",
       "    }\n",
       "\n",
       "    .dataframe tbody tr th {\n",
       "        vertical-align: top;\n",
       "    }\n",
       "\n",
       "    .dataframe thead th {\n",
       "        text-align: right;\n",
       "    }\n",
       "</style>\n",
       "<table border=\"1\" class=\"dataframe\">\n",
       "  <thead>\n",
       "    <tr style=\"text-align: right;\">\n",
       "      <th></th>\n",
       "      <th>id</th>\n",
       "      <th>neighbourhood</th>\n",
       "      <th>price</th>\n",
       "    </tr>\n",
       "  </thead>\n",
       "  <tbody>\n",
       "    <tr>\n",
       "      <th>2774</th>\n",
       "      <td>24926702</td>\n",
       "      <td>Centro</td>\n",
       "      <td>69</td>\n",
       "    </tr>\n",
       "    <tr>\n",
       "      <th>3865</th>\n",
       "      <td>31646315</td>\n",
       "      <td>Centro</td>\n",
       "      <td>95</td>\n",
       "    </tr>\n",
       "    <tr>\n",
       "      <th>5156</th>\n",
       "      <td>37543860</td>\n",
       "      <td>Campanillas</td>\n",
       "      <td>165</td>\n",
       "    </tr>\n",
       "    <tr>\n",
       "      <th>5205</th>\n",
       "      <td>37697878</td>\n",
       "      <td>Centro</td>\n",
       "      <td>106</td>\n",
       "    </tr>\n",
       "    <tr>\n",
       "      <th>3924</th>\n",
       "      <td>32007219</td>\n",
       "      <td>Este</td>\n",
       "      <td>100</td>\n",
       "    </tr>\n",
       "  </tbody>\n",
       "</table>\n",
       "</div>"
      ],
      "text/plain": [
       "            id neighbourhood  price\n",
       "2774  24926702        Centro     69\n",
       "3865  31646315        Centro     95\n",
       "5156  37543860   Campanillas    165\n",
       "5205  37697878        Centro    106\n",
       "3924  32007219          Este    100"
      ]
     },
     "execution_count": 28,
     "metadata": {},
     "output_type": "execute_result"
    }
   ],
   "source": [
    "#load listings data with just used columns\n",
    "listings_df = pd.read_csv('data/listings.zip',compression='zip',usecols=['id','neighbourhood','price'])\n",
    "listings_df.sample(5)"
   ]
  },
  {
   "cell_type": "markdown",
   "metadata": {},
   "source": [
    "### 2.Assess"
   ]
  },
  {
   "cell_type": "code",
   "execution_count": 29,
   "metadata": {},
   "outputs": [
    {
     "name": "stdout",
     "output_type": "stream",
     "text": [
      "<class 'pandas.core.frame.DataFrame'>\n",
      "RangeIndex: 6395 entries, 0 to 6394\n",
      "Data columns (total 3 columns):\n",
      "id               6395 non-null int64\n",
      "neighbourhood    6395 non-null object\n",
      "price            6395 non-null int64\n",
      "dtypes: int64(2), object(1)\n",
      "memory usage: 150.0+ KB\n"
     ]
    }
   ],
   "source": [
    "listings_df.info()"
   ]
  },
  {
   "cell_type": "code",
   "execution_count": 30,
   "metadata": {},
   "outputs": [
    {
     "data": {
      "text/html": [
       "<div>\n",
       "<style scoped>\n",
       "    .dataframe tbody tr th:only-of-type {\n",
       "        vertical-align: middle;\n",
       "    }\n",
       "\n",
       "    .dataframe tbody tr th {\n",
       "        vertical-align: top;\n",
       "    }\n",
       "\n",
       "    .dataframe thead th {\n",
       "        text-align: right;\n",
       "    }\n",
       "</style>\n",
       "<table border=\"1\" class=\"dataframe\">\n",
       "  <thead>\n",
       "    <tr style=\"text-align: right;\">\n",
       "      <th></th>\n",
       "      <th>id</th>\n",
       "      <th>price</th>\n",
       "    </tr>\n",
       "  </thead>\n",
       "  <tbody>\n",
       "    <tr>\n",
       "      <th>count</th>\n",
       "      <td>6.395000e+03</td>\n",
       "      <td>6395.000000</td>\n",
       "    </tr>\n",
       "    <tr>\n",
       "      <th>mean</th>\n",
       "      <td>2.637861e+07</td>\n",
       "      <td>99.360751</td>\n",
       "    </tr>\n",
       "    <tr>\n",
       "      <th>std</th>\n",
       "      <td>1.122570e+07</td>\n",
       "      <td>362.736830</td>\n",
       "    </tr>\n",
       "    <tr>\n",
       "      <th>min</th>\n",
       "      <td>9.603300e+04</td>\n",
       "      <td>10.000000</td>\n",
       "    </tr>\n",
       "    <tr>\n",
       "      <th>25%</th>\n",
       "      <td>1.837153e+07</td>\n",
       "      <td>48.000000</td>\n",
       "    </tr>\n",
       "    <tr>\n",
       "      <th>50%</th>\n",
       "      <td>2.708001e+07</td>\n",
       "      <td>65.000000</td>\n",
       "    </tr>\n",
       "    <tr>\n",
       "      <th>75%</th>\n",
       "      <td>3.601457e+07</td>\n",
       "      <td>95.000000</td>\n",
       "    </tr>\n",
       "    <tr>\n",
       "      <th>max</th>\n",
       "      <td>4.262131e+07</td>\n",
       "      <td>15000.000000</td>\n",
       "    </tr>\n",
       "  </tbody>\n",
       "</table>\n",
       "</div>"
      ],
      "text/plain": [
       "                 id         price\n",
       "count  6.395000e+03   6395.000000\n",
       "mean   2.637861e+07     99.360751\n",
       "std    1.122570e+07    362.736830\n",
       "min    9.603300e+04     10.000000\n",
       "25%    1.837153e+07     48.000000\n",
       "50%    2.708001e+07     65.000000\n",
       "75%    3.601457e+07     95.000000\n",
       "max    4.262131e+07  15000.000000"
      ]
     },
     "execution_count": 30,
     "metadata": {},
     "output_type": "execute_result"
    }
   ],
   "source": [
    "listings_df.describe()"
   ]
  },
  {
   "cell_type": "markdown",
   "metadata": {},
   "source": [
    "### 3.Clean & Analyize"
   ]
  },
  {
   "cell_type": "code",
   "execution_count": 31,
   "metadata": {},
   "outputs": [
    {
     "data": {
      "text/plain": [
       "id               0\n",
       "neighbourhood    0\n",
       "price            0\n",
       "dtype: int64"
      ]
     },
     "execution_count": 31,
     "metadata": {},
     "output_type": "execute_result"
    }
   ],
   "source": [
    "listings_df.isna().sum()"
   ]
  },
  {
   "cell_type": "code",
   "execution_count": 32,
   "metadata": {},
   "outputs": [
    {
     "data": {
      "text/plain": [
       "0"
      ]
     },
     "execution_count": 32,
     "metadata": {},
     "output_type": "execute_result"
    }
   ],
   "source": [
    "listings_df.duplicated().sum()"
   ]
  },
  {
   "cell_type": "markdown",
   "metadata": {},
   "source": [
    "as we see the data havn't null or dupicated rows and data types is as expected"
   ]
  },
  {
   "cell_type": "markdown",
   "metadata": {},
   "source": [
    "### 4.Model & Visualize"
   ]
  },
  {
   "cell_type": "markdown",
   "metadata": {},
   "source": [
    "#### I.Price"
   ]
  },
  {
   "cell_type": "code",
   "execution_count": 33,
   "metadata": {},
   "outputs": [
    {
     "data": {
      "text/html": [
       "<div>\n",
       "<style scoped>\n",
       "    .dataframe tbody tr th:only-of-type {\n",
       "        vertical-align: middle;\n",
       "    }\n",
       "\n",
       "    .dataframe tbody tr th {\n",
       "        vertical-align: top;\n",
       "    }\n",
       "\n",
       "    .dataframe thead th {\n",
       "        text-align: right;\n",
       "    }\n",
       "</style>\n",
       "<table border=\"1\" class=\"dataframe\">\n",
       "  <thead>\n",
       "    <tr style=\"text-align: right;\">\n",
       "      <th></th>\n",
       "      <th>price</th>\n",
       "    </tr>\n",
       "    <tr>\n",
       "      <th>neighbourhood</th>\n",
       "      <th></th>\n",
       "    </tr>\n",
       "  </thead>\n",
       "  <tbody>\n",
       "    <tr>\n",
       "      <th>Churriana</th>\n",
       "      <td>119.829787</td>\n",
       "    </tr>\n",
       "    <tr>\n",
       "      <th>Centro</th>\n",
       "      <td>104.956950</td>\n",
       "    </tr>\n",
       "    <tr>\n",
       "      <th>Este</th>\n",
       "      <td>102.696124</td>\n",
       "    </tr>\n",
       "    <tr>\n",
       "      <th>Puerto de la Torre</th>\n",
       "      <td>99.289474</td>\n",
       "    </tr>\n",
       "    <tr>\n",
       "      <th>Carretera de Cadiz</th>\n",
       "      <td>87.034111</td>\n",
       "    </tr>\n",
       "    <tr>\n",
       "      <th>Teatinos-Universidad</th>\n",
       "      <td>86.444444</td>\n",
       "    </tr>\n",
       "    <tr>\n",
       "      <th>Palma-Palmilla</th>\n",
       "      <td>78.043478</td>\n",
       "    </tr>\n",
       "    <tr>\n",
       "      <th>Campanillas</th>\n",
       "      <td>77.500000</td>\n",
       "    </tr>\n",
       "    <tr>\n",
       "      <th>Cruz De Humilladero</th>\n",
       "      <td>73.524430</td>\n",
       "    </tr>\n",
       "    <tr>\n",
       "      <th>Ciudad Jardin</th>\n",
       "      <td>59.111111</td>\n",
       "    </tr>\n",
       "    <tr>\n",
       "      <th>Bailen-Miraflores</th>\n",
       "      <td>48.449438</td>\n",
       "    </tr>\n",
       "  </tbody>\n",
       "</table>\n",
       "</div>"
      ],
      "text/plain": [
       "                           price\n",
       "neighbourhood                   \n",
       "Churriana             119.829787\n",
       "Centro                104.956950\n",
       "Este                  102.696124\n",
       "Puerto de la Torre     99.289474\n",
       "Carretera de Cadiz     87.034111\n",
       "Teatinos-Universidad   86.444444\n",
       "Palma-Palmilla         78.043478\n",
       "Campanillas            77.500000\n",
       "Cruz De Humilladero    73.524430\n",
       "Ciudad Jardin          59.111111\n",
       "Bailen-Miraflores      48.449438"
      ]
     },
     "execution_count": 33,
     "metadata": {},
     "output_type": "execute_result"
    }
   ],
   "source": [
    "# Average price for each neighbourhood group\n",
    "neighbourhood_price=listings_df.groupby(['neighbourhood'])['price'].mean()\n",
    "\n",
    "# Sort values in descending order\n",
    "neighbourhood_price=neighbourhood_price.sort_values(ascending=False)\n",
    "pd.DataFrame(neighbourhood_price)"
   ]
  },
  {
   "cell_type": "code",
   "execution_count": 34,
   "metadata": {},
   "outputs": [
    {
     "data": {
      "text/html": [
       "<div>\n",
       "<style scoped>\n",
       "    .dataframe tbody tr th:only-of-type {\n",
       "        vertical-align: middle;\n",
       "    }\n",
       "\n",
       "    .dataframe tbody tr th {\n",
       "        vertical-align: top;\n",
       "    }\n",
       "\n",
       "    .dataframe thead th {\n",
       "        text-align: right;\n",
       "    }\n",
       "</style>\n",
       "<table border=\"1\" class=\"dataframe\">\n",
       "  <thead>\n",
       "    <tr style=\"text-align: right;\">\n",
       "      <th></th>\n",
       "      <th>price</th>\n",
       "    </tr>\n",
       "  </thead>\n",
       "  <tbody>\n",
       "    <tr>\n",
       "      <th>count</th>\n",
       "      <td>11.000000</td>\n",
       "    </tr>\n",
       "    <tr>\n",
       "      <th>mean</th>\n",
       "      <td>85.170850</td>\n",
       "    </tr>\n",
       "    <tr>\n",
       "      <th>std</th>\n",
       "      <td>20.921637</td>\n",
       "    </tr>\n",
       "    <tr>\n",
       "      <th>min</th>\n",
       "      <td>48.449438</td>\n",
       "    </tr>\n",
       "    <tr>\n",
       "      <th>25%</th>\n",
       "      <td>75.512215</td>\n",
       "    </tr>\n",
       "    <tr>\n",
       "      <th>50%</th>\n",
       "      <td>86.444444</td>\n",
       "    </tr>\n",
       "    <tr>\n",
       "      <th>75%</th>\n",
       "      <td>100.992799</td>\n",
       "    </tr>\n",
       "    <tr>\n",
       "      <th>max</th>\n",
       "      <td>119.829787</td>\n",
       "    </tr>\n",
       "  </tbody>\n",
       "</table>\n",
       "</div>"
      ],
      "text/plain": [
       "            price\n",
       "count   11.000000\n",
       "mean    85.170850\n",
       "std     20.921637\n",
       "min     48.449438\n",
       "25%     75.512215\n",
       "50%     86.444444\n",
       "75%    100.992799\n",
       "max    119.829787"
      ]
     },
     "execution_count": 34,
     "metadata": {},
     "output_type": "execute_result"
    }
   ],
   "source": [
    "# get stats info\n",
    "pd.DataFrame(neighbourhood_price.describe())"
   ]
  },
  {
   "cell_type": "code",
   "execution_count": 35,
   "metadata": {},
   "outputs": [
    {
     "data": {
      "text/plain": [
       "['Churriana', 'Centro', 'Este']"
      ]
     },
     "execution_count": 35,
     "metadata": {},
     "output_type": "execute_result"
    }
   ],
   "source": [
    "# Consider neighbourhood with avergae price over 101 to be expensive (above 75% of data)\n",
    "high_price_neighbourhood_val=neighbourhood_price[neighbourhood_price>101]\n",
    "\n",
    "# Get names of high price neighbourhoods\n",
    "expensive_neighbourhoods=high_price_neighbourhood_val.index.tolist()\n",
    "expensive_neighbourhoods"
   ]
  },
  {
   "cell_type": "code",
   "execution_count": 36,
   "metadata": {},
   "outputs": [
    {
     "data": {
      "text/plain": [
       "['Cruz De Humilladero', 'Ciudad Jardin', 'Bailen-Miraflores']"
      ]
     },
     "execution_count": 36,
     "metadata": {},
     "output_type": "execute_result"
    }
   ],
   "source": [
    "# Consider neighbourhood with avergae price less tahn 75 to be expensive (under 25% of data)\n",
    "low_price_neighbourhood_val=neighbourhood_price[neighbourhood_price<75]\n",
    "\n",
    "# Get names of high price neighbourhoods\n",
    "cheap_neighbourhoods=low_price_neighbourhood_val.index.tolist()\n",
    "cheap_neighbourhoods"
   ]
  },
  {
   "cell_type": "code",
   "execution_count": 37,
   "metadata": {},
   "outputs": [
    {
     "data": {
      "image/png": "[encoded data removed]",
      "text/plain": [
       "<Figure size 1008x504 with 1 Axes>"
      ]
     },
     "metadata": {
      "needs_background": "light"
     },
     "output_type": "display_data"
    }
   ],
   "source": [
    "# Plot the average price per neighbourhoods\n",
    "plt.figure(figsize=(14,7))\n",
    "plt.xticks(rotation=90)\n",
    "plt.xlabel('Neighborhoods')\n",
    "plt.ylabel('Price')\n",
    "plt.title('Average Price Vs Neighborhoods')\n",
    "sns.barplot(neighbourhood_price.index,neighbourhood_price);"
   ]
  },
  {
   "cell_type": "markdown",
   "metadata": {},
   "source": [
    "- Based on the above analysis,\n",
    "    - Churriana, Centro and  Este are the most expensive.\n",
    "    - Cruz De Humilladero, Ciudad Jardin and Bailen-Miraflores are the cheapest."
   ]
  },
  {
   "cell_type": "markdown",
   "metadata": {},
   "source": [
    "#### II. Popularity"
   ]
  },
  {
   "cell_type": "code",
   "execution_count": 38,
   "metadata": {},
   "outputs": [
    {
     "data": {
      "text/html": [
       "<div>\n",
       "<style scoped>\n",
       "    .dataframe tbody tr th:only-of-type {\n",
       "        vertical-align: middle;\n",
       "    }\n",
       "\n",
       "    .dataframe tbody tr th {\n",
       "        vertical-align: top;\n",
       "    }\n",
       "\n",
       "    .dataframe thead th {\n",
       "        text-align: right;\n",
       "    }\n",
       "</style>\n",
       "<table border=\"1\" class=\"dataframe\">\n",
       "  <thead>\n",
       "    <tr style=\"text-align: right;\">\n",
       "      <th></th>\n",
       "      <th>id</th>\n",
       "    </tr>\n",
       "    <tr>\n",
       "      <th>neighbourhood</th>\n",
       "      <th></th>\n",
       "    </tr>\n",
       "  </thead>\n",
       "  <tbody>\n",
       "    <tr>\n",
       "      <th>Campanillas</th>\n",
       "      <td>3.118646e+07</td>\n",
       "    </tr>\n",
       "    <tr>\n",
       "      <th>Cruz De Humilladero</th>\n",
       "      <td>2.948411e+07</td>\n",
       "    </tr>\n",
       "    <tr>\n",
       "      <th>Ciudad Jardin</th>\n",
       "      <td>2.850531e+07</td>\n",
       "    </tr>\n",
       "    <tr>\n",
       "      <th>Palma-Palmilla</th>\n",
       "      <td>2.743593e+07</td>\n",
       "    </tr>\n",
       "    <tr>\n",
       "      <th>Churriana</th>\n",
       "      <td>2.736920e+07</td>\n",
       "    </tr>\n",
       "    <tr>\n",
       "      <th>Bailen-Miraflores</th>\n",
       "      <td>2.704404e+07</td>\n",
       "    </tr>\n",
       "    <tr>\n",
       "      <th>Carretera de Cadiz</th>\n",
       "      <td>2.689461e+07</td>\n",
       "    </tr>\n",
       "    <tr>\n",
       "      <th>Centro</th>\n",
       "      <td>2.639207e+07</td>\n",
       "    </tr>\n",
       "    <tr>\n",
       "      <th>Este</th>\n",
       "      <td>2.436559e+07</td>\n",
       "    </tr>\n",
       "    <tr>\n",
       "      <th>Puerto de la Torre</th>\n",
       "      <td>2.372097e+07</td>\n",
       "    </tr>\n",
       "    <tr>\n",
       "      <th>Teatinos-Universidad</th>\n",
       "      <td>2.311272e+07</td>\n",
       "    </tr>\n",
       "  </tbody>\n",
       "</table>\n",
       "</div>"
      ],
      "text/plain": [
       "                                id\n",
       "neighbourhood                     \n",
       "Campanillas           3.118646e+07\n",
       "Cruz De Humilladero   2.948411e+07\n",
       "Ciudad Jardin         2.850531e+07\n",
       "Palma-Palmilla        2.743593e+07\n",
       "Churriana             2.736920e+07\n",
       "Bailen-Miraflores     2.704404e+07\n",
       "Carretera de Cadiz    2.689461e+07\n",
       "Centro                2.639207e+07\n",
       "Este                  2.436559e+07\n",
       "Puerto de la Torre    2.372097e+07\n",
       "Teatinos-Universidad  2.311272e+07"
      ]
     },
     "execution_count": 38,
     "metadata": {},
     "output_type": "execute_result"
    }
   ],
   "source": [
    "# The average number of listings for each neighbourhood group\n",
    "neighbourhoods_popularity=listings_df.groupby(['neighbourhood'])['id'].mean()\n",
    "\n",
    "# Sort values in descending order\n",
    "neighbourhoods_popularity=neighbourhoods_popularity.sort_values(ascending=False)\n",
    "pd.DataFrame(neighbourhoods_popularity)"
   ]
  },
  {
   "cell_type": "code",
   "execution_count": 39,
   "metadata": {},
   "outputs": [
    {
     "data": {
      "text/html": [
       "<div>\n",
       "<style scoped>\n",
       "    .dataframe tbody tr th:only-of-type {\n",
       "        vertical-align: middle;\n",
       "    }\n",
       "\n",
       "    .dataframe tbody tr th {\n",
       "        vertical-align: top;\n",
       "    }\n",
       "\n",
       "    .dataframe thead th {\n",
       "        text-align: right;\n",
       "    }\n",
       "</style>\n",
       "<table border=\"1\" class=\"dataframe\">\n",
       "  <thead>\n",
       "    <tr style=\"text-align: right;\">\n",
       "      <th></th>\n",
       "      <th>id</th>\n",
       "    </tr>\n",
       "  </thead>\n",
       "  <tbody>\n",
       "    <tr>\n",
       "      <th>count</th>\n",
       "      <td>1.100000e+01</td>\n",
       "    </tr>\n",
       "    <tr>\n",
       "      <th>mean</th>\n",
       "      <td>2.686464e+07</td>\n",
       "    </tr>\n",
       "    <tr>\n",
       "      <th>std</th>\n",
       "      <td>2.434618e+06</td>\n",
       "    </tr>\n",
       "    <tr>\n",
       "      <th>min</th>\n",
       "      <td>2.311272e+07</td>\n",
       "    </tr>\n",
       "    <tr>\n",
       "      <th>25%</th>\n",
       "      <td>2.537883e+07</td>\n",
       "    </tr>\n",
       "    <tr>\n",
       "      <th>50%</th>\n",
       "      <td>2.704404e+07</td>\n",
       "    </tr>\n",
       "    <tr>\n",
       "      <th>75%</th>\n",
       "      <td>2.797062e+07</td>\n",
       "    </tr>\n",
       "    <tr>\n",
       "      <th>max</th>\n",
       "      <td>3.118646e+07</td>\n",
       "    </tr>\n",
       "  </tbody>\n",
       "</table>\n",
       "</div>"
      ],
      "text/plain": [
       "                 id\n",
       "count  1.100000e+01\n",
       "mean   2.686464e+07\n",
       "std    2.434618e+06\n",
       "min    2.311272e+07\n",
       "25%    2.537883e+07\n",
       "50%    2.704404e+07\n",
       "75%    2.797062e+07\n",
       "max    3.118646e+07"
      ]
     },
     "execution_count": 39,
     "metadata": {},
     "output_type": "execute_result"
    }
   ],
   "source": [
    "# get stats info\n",
    "pd.DataFrame(neighbourhoods_popularity.describe())"
   ]
  },
  {
   "cell_type": "code",
   "execution_count": 40,
   "metadata": {},
   "outputs": [
    {
     "data": {
      "text/plain": [
       "['Campanillas', 'Cruz De Humilladero', 'Ciudad Jardin']"
      ]
     },
     "execution_count": 40,
     "metadata": {},
     "output_type": "execute_result"
    }
   ],
   "source": [
    "# Consider neighbourhood with The average number of listings over 2.797062e+07 to be popular (above 75% of data)\n",
    "pop_neighbourhood_val=neighbourhoods_popularity[neighbourhoods_popularity>2.797062e+07]\n",
    "\n",
    "# Get names of high price months\n",
    "pop_neighbourhood=pop_neighbourhood_val.index.tolist()\n",
    "pop_neighbourhood"
   ]
  },
  {
   "cell_type": "code",
   "execution_count": 41,
   "metadata": {},
   "outputs": [
    {
     "data": {
      "text/plain": [
       "['Este', 'Puerto de la Torre', 'Teatinos-Universidad']"
      ]
     },
     "execution_count": 41,
     "metadata": {},
     "output_type": "execute_result"
    }
   ],
   "source": [
    "# Consider neighbourhood with The average number of listings less than 2.537883e+07 to be popular (less 25% of data)\n",
    "unpop_neighbourhood_val=neighbourhoods_popularity[neighbourhoods_popularity<2.537883e+07]\n",
    "\n",
    "# Get names of high price months\n",
    "unpop_neighbourhood=unpop_neighbourhood_val.index.tolist()\n",
    "unpop_neighbourhood"
   ]
  },
  {
   "cell_type": "code",
   "execution_count": 42,
   "metadata": {},
   "outputs": [
    {
     "data": {
      "image/png": "[encoded data removed]",
      "text/plain": [
       "<Figure size 1008x504 with 1 Axes>"
      ]
     },
     "metadata": {
      "needs_background": "light"
     },
     "output_type": "display_data"
    }
   ],
   "source": [
    "# Plot the average price per neighbourhoods\n",
    "plt.figure(figsize=(14,7))\n",
    "plt.xticks(rotation=90)\n",
    "plt.xlabel('Neighborhoods')\n",
    "plt.ylabel('Average number of listings')\n",
    "plt.title('Listings distribution Vs Neighborhoods')\n",
    "sns.barplot(neighbourhoods_popularity.index,neighbourhoods_popularity);"
   ]
  },
  {
   "cell_type": "markdown",
   "metadata": {},
   "source": [
    "- Based on the above graph,\n",
    "    - Campanillas, Cruz De Humilladero and Ciudad Jardin are the most crowded neighbourhoods.\n",
    "    - Este, Puerto de la Torre and Teatinos-Universidad are the least crowded neighbourhoods.\n",
    "    \n",
    "So we can apply some rules to get the best neighbourhoods to accommodate in:"
   ]
  },
  {
   "cell_type": "code",
   "execution_count": 43,
   "metadata": {},
   "outputs": [
    {
     "name": "stdout",
     "output_type": "stream",
     "text": [
      "Expensive and crowded neighbourhood : []\n",
      "Expensive and less crowded neighbourhood : []\n",
      "Cheap and crowded neighbourhood : ['Ciudad Jardin', 'Cruz De Humilladero']\n",
      "Cheap and less crowded neighbourhood : []\n"
     ]
    }
   ],
   "source": [
    "# Get expensive and crowded neighbourhoods\n",
    "print(\"Expensive and crowded neighbourhood :\",list(set(expensive_neighbourhoods) & set(pop_neighbourhood)))\n",
    "# Get expensive and less crowded neighbourhoods\n",
    "print(\"Expensive and less crowded neighbourhood :\",list(set(expensive_neighbourhoods) & set(unpop_neighbourhood_val)))\n",
    "# Get cheap and crowded neighbourhoods\n",
    "print(\"Cheap and crowded neighbourhood :\",list(set(cheap_neighbourhoods) & set(pop_neighbourhood)))\n",
    "# Get cheap and less crowded neighbourhoods\n",
    "print(\"Cheap and less crowded neighbourhood :\",list(set(cheap_neighbourhoods) & set(unpop_neighbourhood)))"
   ]
  },
  {
   "cell_type": "markdown",
   "metadata": {},
   "source": [
    "- In Conclusion,\n",
    "    - The expensive neighbourhoods has a medium crowding (not extreme crowded or of the most less neighbourhoods)\n",
    "    - Ciudad Jardin, Cruz De Humilladero and is the cheapest but they are crowded so you have to sacrifice with adapting with crowding if you want to save some money."
   ]
  }
 ],
 "metadata": {
  "kernelspec": {
   "display_name": "Python 3",
   "language": "python",
   "name": "python3"
  },
  "language_info": {
   "codemirror_mode": {
    "name": "ipython",
    "version": 3
   },
   "file_extension": ".py",
   "mimetype": "text/x-python",
   "name": "python",
   "nbconvert_exporter": "python",
   "pygments_lexer": "ipython3",
   "version": "3.7.4"
  }
 },
 "nbformat": 4,
 "nbformat_minor": 4
}
