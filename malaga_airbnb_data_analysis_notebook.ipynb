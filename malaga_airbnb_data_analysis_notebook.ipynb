{
 "cells": [
  {
   "cell_type": "markdown",
   "metadata": {},
   "source": [
    "# Málaga Airbnb Data Analysis"
   ]
  },
  {
   "cell_type": "code",
   "execution_count": 1,
   "metadata": {},
   "outputs": [],
   "source": [
    "import pandas as pd\n",
    "import matplotlib.pyplot as plt\n",
    "import seaborn as sns\n",
    "from datetime import datetime\n",
    "%matplotlib inline"
   ]
  },
  {
   "cell_type": "markdown",
   "metadata": {},
   "source": [
    "In this notebook, I'll follow the CRISP-DM process to analyze Málaga Airbnb homes data and answer the following questions:\n",
    "- What is the perfect time of year to visit Málaga city ?\n",
    "- Which neighborhood is more affordable and less crowding ?\n",
    "- Which features is more involved in predicting price ?   \n",
    "\n",
    "\n",
    "by separating the notebook into 3 parts and show you the details that drive me to the answers"
   ]
  },
  {
   "cell_type": "markdown",
   "metadata": {},
   "source": [
    "## Part 1:\n",
    "<h2>What is the perfect time of year to visit Málaga city ?</h2>"
   ]
  },
  {
   "cell_type": "markdown",
   "metadata": {},
   "source": [
    "### 1.Gather"
   ]
  },
  {
   "cell_type": "code",
   "execution_count": 2,
   "metadata": {},
   "outputs": [],
   "source": [
    "calendar_df=pd.read_csv(\"data/calendar.zip\",compression='zip') #Loading calendar data"
   ]
  },
  {
   "cell_type": "markdown",
   "metadata": {},
   "source": [
    "### 2.Assess"
   ]
  },
  {
   "cell_type": "code",
   "execution_count": 3,
   "metadata": {},
   "outputs": [
    {
     "name": "stdout",
     "output_type": "stream",
     "text": [
      "<class 'pandas.core.frame.DataFrame'>\n",
      "RangeIndex: 2334175 entries, 0 to 2334174\n",
      "Data columns (total 7 columns):\n",
      "listing_id        int64\n",
      "date              object\n",
      "available         object\n",
      "price             object\n",
      "adjusted_price    object\n",
      "minimum_nights    int64\n",
      "maximum_nights    int64\n",
      "dtypes: int64(3), object(4)\n",
      "memory usage: 124.7+ MB\n"
     ]
    }
   ],
   "source": [
    "calendar_df.info()"
   ]
  },
  {
   "cell_type": "code",
   "execution_count": 4,
   "metadata": {},
   "outputs": [
    {
     "data": {
      "text/html": [
       "<div>\n",
       "<style scoped>\n",
       "    .dataframe tbody tr th:only-of-type {\n",
       "        vertical-align: middle;\n",
       "    }\n",
       "\n",
       "    .dataframe tbody tr th {\n",
       "        vertical-align: top;\n",
       "    }\n",
       "\n",
       "    .dataframe thead th {\n",
       "        text-align: right;\n",
       "    }\n",
       "</style>\n",
       "<table border=\"1\" class=\"dataframe\">\n",
       "  <thead>\n",
       "    <tr style=\"text-align: right;\">\n",
       "      <th></th>\n",
       "      <th>listing_id</th>\n",
       "      <th>minimum_nights</th>\n",
       "      <th>maximum_nights</th>\n",
       "    </tr>\n",
       "  </thead>\n",
       "  <tbody>\n",
       "    <tr>\n",
       "      <th>count</th>\n",
       "      <td>2.334175e+06</td>\n",
       "      <td>2.334175e+06</td>\n",
       "      <td>2.334175e+06</td>\n",
       "    </tr>\n",
       "    <tr>\n",
       "      <th>mean</th>\n",
       "      <td>2.637861e+07</td>\n",
       "      <td>4.369014e+00</td>\n",
       "      <td>8.335845e+02</td>\n",
       "    </tr>\n",
       "    <tr>\n",
       "      <th>std</th>\n",
       "      <td>1.122482e+07</td>\n",
       "      <td>2.753960e+01</td>\n",
       "      <td>4.675077e+02</td>\n",
       "    </tr>\n",
       "    <tr>\n",
       "      <th>min</th>\n",
       "      <td>9.603300e+04</td>\n",
       "      <td>1.000000e+00</td>\n",
       "      <td>1.000000e+00</td>\n",
       "    </tr>\n",
       "    <tr>\n",
       "      <th>25%</th>\n",
       "      <td>1.837136e+07</td>\n",
       "      <td>2.000000e+00</td>\n",
       "      <td>3.000000e+02</td>\n",
       "    </tr>\n",
       "    <tr>\n",
       "      <th>50%</th>\n",
       "      <td>2.708001e+07</td>\n",
       "      <td>2.000000e+00</td>\n",
       "      <td>1.125000e+03</td>\n",
       "    </tr>\n",
       "    <tr>\n",
       "      <th>75%</th>\n",
       "      <td>3.601766e+07</td>\n",
       "      <td>3.000000e+00</td>\n",
       "      <td>1.125000e+03</td>\n",
       "    </tr>\n",
       "    <tr>\n",
       "      <th>max</th>\n",
       "      <td>4.262131e+07</td>\n",
       "      <td>1.125000e+03</td>\n",
       "      <td>1.127000e+03</td>\n",
       "    </tr>\n",
       "  </tbody>\n",
       "</table>\n",
       "</div>"
      ],
      "text/plain": [
       "         listing_id  minimum_nights  maximum_nights\n",
       "count  2.334175e+06    2.334175e+06    2.334175e+06\n",
       "mean   2.637861e+07    4.369014e+00    8.335845e+02\n",
       "std    1.122482e+07    2.753960e+01    4.675077e+02\n",
       "min    9.603300e+04    1.000000e+00    1.000000e+00\n",
       "25%    1.837136e+07    2.000000e+00    3.000000e+02\n",
       "50%    2.708001e+07    2.000000e+00    1.125000e+03\n",
       "75%    3.601766e+07    3.000000e+00    1.125000e+03\n",
       "max    4.262131e+07    1.125000e+03    1.127000e+03"
      ]
     },
     "execution_count": 4,
     "metadata": {},
     "output_type": "execute_result"
    }
   ],
   "source": [
    "calendar_df.describe()"
   ]
  },
  {
   "cell_type": "code",
   "execution_count": 5,
   "metadata": {},
   "outputs": [
    {
     "data": {
      "text/plain": [
       "listing_id        0\n",
       "date              0\n",
       "available         0\n",
       "price             0\n",
       "adjusted_price    0\n",
       "minimum_nights    0\n",
       "maximum_nights    0\n",
       "dtype: int64"
      ]
     },
     "execution_count": 5,
     "metadata": {},
     "output_type": "execute_result"
    }
   ],
   "source": [
    "calendar_df.isna().sum()"
   ]
  },
  {
   "cell_type": "code",
   "execution_count": 6,
   "metadata": {},
   "outputs": [
    {
     "data": {
      "text/plain": [
       "0"
      ]
     },
     "execution_count": 6,
     "metadata": {},
     "output_type": "execute_result"
    }
   ],
   "source": [
    "calendar_df.duplicated().sum()"
   ]
  },
  {
   "cell_type": "markdown",
   "metadata": {},
   "source": [
    "### 3.Clean & Analyize"
   ]
  },
  {
   "cell_type": "code",
   "execution_count": 7,
   "metadata": {},
   "outputs": [
    {
     "data": {
      "text/plain": [
       "1400239     37.0\n",
       "190766     110.0\n",
       "2329582    140.0\n",
       "1494507     49.0\n",
       "1057573     30.0\n",
       "Name: price, dtype: float64"
      ]
     },
     "execution_count": 7,
     "metadata": {},
     "output_type": "execute_result"
    }
   ],
   "source": [
    "#remove '$' and ',' from price and cast it to float\n",
    "calendar_df.price=calendar_df.price.apply(lambda x:x[1:].replace(',','')).astype(float)\n",
    "calendar_df['price'].sample(5)"
   ]
  },
  {
   "cell_type": "code",
   "execution_count": 8,
   "metadata": {},
   "outputs": [
    {
     "data": {
      "text/plain": [
       "571584    2020-11-12\n",
       "2130098   2021-01-08\n",
       "1583380   2020-03-10\n",
       "625901    2020-07-20\n",
       "2006997   2020-10-13\n",
       "Name: date, dtype: datetime64[ns]"
      ]
     },
     "execution_count": 8,
     "metadata": {},
     "output_type": "execute_result"
    }
   ],
   "source": [
    "#change 'date' column type from 'str' to 'datetime'\n",
    "calendar_df['date']=pd.to_datetime(calendar_df['date'])\n",
    "calendar_df['date'].sample(5)"
   ]
  },
  {
   "cell_type": "markdown",
   "metadata": {},
   "source": [
    "### 4.Model and Visualize"
   ]
  },
  {
   "cell_type": "code",
   "execution_count": 9,
   "metadata": {},
   "outputs": [],
   "source": [
    "# Create new columns to split date to year, month, and day\n",
    "calendar_df['year'] = calendar_df['date'].dt.year\n",
    "calendar_df['month'] = calendar_df['date'].dt.month\n",
    "calendar_df['day'] = calendar_df['date'].dt.day"
   ]
  },
  {
   "cell_type": "code",
   "execution_count": 10,
   "metadata": {},
   "outputs": [
    {
     "data": {
      "text/html": [
       "<div>\n",
       "<style scoped>\n",
       "    .dataframe tbody tr th:only-of-type {\n",
       "        vertical-align: middle;\n",
       "    }\n",
       "\n",
       "    .dataframe tbody tr th {\n",
       "        vertical-align: top;\n",
       "    }\n",
       "\n",
       "    .dataframe thead th {\n",
       "        text-align: right;\n",
       "    }\n",
       "</style>\n",
       "<table border=\"1\" class=\"dataframe\">\n",
       "  <thead>\n",
       "    <tr style=\"text-align: right;\">\n",
       "      <th></th>\n",
       "      <th>listing_id</th>\n",
       "      <th>date</th>\n",
       "      <th>available</th>\n",
       "      <th>price</th>\n",
       "      <th>adjusted_price</th>\n",
       "      <th>minimum_nights</th>\n",
       "      <th>maximum_nights</th>\n",
       "      <th>year</th>\n",
       "      <th>month</th>\n",
       "      <th>day</th>\n",
       "    </tr>\n",
       "  </thead>\n",
       "  <tbody>\n",
       "    <tr>\n",
       "      <th>2258682</th>\n",
       "      <td>42087380</td>\n",
       "      <td>2020-12-16</td>\n",
       "      <td>t</td>\n",
       "      <td>103.0</td>\n",
       "      <td>$103.00</td>\n",
       "      <td>2</td>\n",
       "      <td>1125</td>\n",
       "      <td>2020</td>\n",
       "      <td>12</td>\n",
       "      <td>16</td>\n",
       "    </tr>\n",
       "    <tr>\n",
       "      <th>2020939</th>\n",
       "      <td>39549914</td>\n",
       "      <td>2020-12-01</td>\n",
       "      <td>f</td>\n",
       "      <td>45.0</td>\n",
       "      <td>$41.00</td>\n",
       "      <td>2</td>\n",
       "      <td>22</td>\n",
       "      <td>2020</td>\n",
       "      <td>12</td>\n",
       "      <td>1</td>\n",
       "    </tr>\n",
       "    <tr>\n",
       "      <th>1573543</th>\n",
       "      <td>33299835</td>\n",
       "      <td>2020-07-09</td>\n",
       "      <td>f</td>\n",
       "      <td>175.0</td>\n",
       "      <td>$175.00</td>\n",
       "      <td>3</td>\n",
       "      <td>1125</td>\n",
       "      <td>2020</td>\n",
       "      <td>7</td>\n",
       "      <td>9</td>\n",
       "    </tr>\n",
       "  </tbody>\n",
       "</table>\n",
       "</div>"
      ],
      "text/plain": [
       "         listing_id       date available  price adjusted_price  \\\n",
       "2258682    42087380 2020-12-16         t  103.0        $103.00   \n",
       "2020939    39549914 2020-12-01         f   45.0         $41.00   \n",
       "1573543    33299835 2020-07-09         f  175.0        $175.00   \n",
       "\n",
       "         minimum_nights  maximum_nights  year  month  day  \n",
       "2258682               2            1125  2020     12   16  \n",
       "2020939               2              22  2020     12    1  \n",
       "1573543               3            1125  2020      7    9  "
      ]
     },
     "execution_count": 10,
     "metadata": {},
     "output_type": "execute_result"
    }
   ],
   "source": [
    "calendar_df.sample(3)"
   ]
  },
  {
   "cell_type": "code",
   "execution_count": 11,
   "metadata": {},
   "outputs": [
    {
     "data": {
      "text/plain": [
       "t    1317120\n",
       "f    1017055\n",
       "Name: available, dtype: int64"
      ]
     },
     "execution_count": 11,
     "metadata": {},
     "output_type": "execute_result"
    }
   ],
   "source": [
    "#check values of available column\n",
    "calendar_df.available.value_counts()"
   ]
  },
  {
   "cell_type": "code",
   "execution_count": 12,
   "metadata": {},
   "outputs": [
    {
     "data": {
      "text/plain": [
       "1    1317120\n",
       "0    1017055\n",
       "Name: available, dtype: int64"
      ]
     },
     "execution_count": 12,
     "metadata": {},
     "output_type": "execute_result"
    }
   ],
   "source": [
    "#convert available value from t to 1 and f to 0\n",
    "calendar_df.available=calendar_df.available.map({'t':1,'f':0})\n",
    "calendar_df['available'].value_counts()"
   ]
  },
  {
   "cell_type": "code",
   "execution_count": 13,
   "metadata": {},
   "outputs": [
    {
     "data": {
      "image/png": "[encoded data removed]",
      "text/plain": [
       "<Figure size 432x288 with 1 Axes>"
      ]
     },
     "metadata": {
      "needs_background": "light"
     },
     "output_type": "display_data"
    }
   ],
   "source": [
    "# check availability for each month\n",
    "sns.countplot(x='month',data=calendar_df[calendar_df.available==1]);"
   ]
  },
  {
   "cell_type": "code",
   "execution_count": 14,
   "metadata": {},
   "outputs": [
    {
     "data": {
      "text/plain": [
       "month\n",
       "7     0.625312\n",
       "8     0.619622\n",
       "5     0.618306\n",
       "6     0.608314\n",
       "9     0.604154\n",
       "10    0.599546\n",
       "11    0.599364\n",
       "4     0.541089\n",
       "12    0.538036\n",
       "1     0.480592\n",
       "2     0.468323\n",
       "3     0.462463\n",
       "Name: available, dtype: float64"
      ]
     },
     "execution_count": 14,
     "metadata": {},
     "output_type": "execute_result"
    }
   ],
   "source": [
    "month_availability=calendar_df.groupby(['month'])['available'].mean().sort_values(ascending=False)\n",
    "month_availability"
   ]
  },
  {
   "cell_type": "code",
   "execution_count": 15,
   "metadata": {},
   "outputs": [
    {
     "data": {
      "text/plain": [
       "count    12.000000\n",
       "mean      0.563760\n",
       "std       0.062893\n",
       "min       0.462463\n",
       "25%       0.523675\n",
       "50%       0.599455\n",
       "75%       0.610812\n",
       "max       0.625312\n",
       "Name: available, dtype: float64"
      ]
     },
     "execution_count": 15,
     "metadata": {},
     "output_type": "execute_result"
    }
   ],
   "source": [
    "#some stats about month_availability\n",
    "month_availability.describe()"
   ]
  },
  {
   "cell_type": "code",
   "execution_count": 16,
   "metadata": {},
   "outputs": [
    {
     "data": {
      "text/plain": [
       "[7, 8, 5]"
      ]
     },
     "execution_count": 16,
     "metadata": {},
     "output_type": "execute_result"
    }
   ],
   "source": [
    "# I'll consider months with the average amount of available present over 0.61 to be active (above 75% of data)\n",
    "active_months_val=month_availability[month_availability>0.61]\n",
    "active_months=active_months_val.index.tolist()\n",
    "active_months"
   ]
  },
  {
   "cell_type": "code",
   "execution_count": 17,
   "metadata": {},
   "outputs": [
    {
     "data": {
      "text/plain": [
       "[1, 2, 3]"
      ]
     },
     "execution_count": 17,
     "metadata": {},
     "output_type": "execute_result"
    }
   ],
   "source": [
    "# and I'll consider months with the average amount of available present under 0.52 to be inactive (below 25% of data)\n",
    "inactive_months_val=month_availability[month_availability<0.523]\n",
    "\n",
    "# Get names of active months\n",
    "inactive_months=inactive_months_val.index.tolist()\n",
    "inactive_months"
   ]
  },
  {
   "cell_type": "code",
   "execution_count": 18,
   "metadata": {},
   "outputs": [
    {
     "data": {
      "image/png": "[encoded data removed]",
      "text/plain": [
       "<Figure size 720x288 with 1 Axes>"
      ]
     },
     "metadata": {
      "needs_background": "light"
     },
     "output_type": "display_data"
    }
   ],
   "source": [
    "#Plot Availability by month\n",
    "plt.figure(figsize=(10,4))\n",
    "plt.plot(month_availability.sort_index(), 'o-')\n",
    "plt.title('Availability by month')\n",
    "plt.show()"
   ]
  },
  {
   "cell_type": "markdown",
   "metadata": {},
   "source": [
    "- Based on the above graph:\n",
    "    - May, July, and August are the most available time of the year to visit Malaga city.\n",
    "    - January, February and March are the least."
   ]
  },
  {
   "cell_type": "markdown",
   "metadata": {},
   "source": [
    "But what about days let's try to explore it"
   ]
  },
  {
   "cell_type": "markdown",
   "metadata": {},
   "source": [
    "#### I. Active Days"
   ]
  },
  {
   "cell_type": "code",
   "execution_count": 19,
   "metadata": {},
   "outputs": [
    {
     "data": {
      "text/plain": [
       "day\n",
       "27    0.659004\n",
       "26    0.658952\n",
       "25    0.652906\n",
       "24    0.646547\n",
       "12    0.636800\n",
       "28    0.635757\n",
       "13    0.632317\n",
       "31    0.632004\n",
       "23    0.631691\n",
       "29    0.629346\n",
       "6     0.627834\n",
       "19    0.626792\n",
       "5     0.625801\n",
       "11    0.625593\n",
       "10    0.622361\n",
       "30    0.620485\n",
       "7     0.619442\n",
       "20    0.619077\n",
       "18    0.618921\n",
       "4     0.617670\n",
       "3     0.612510\n",
       "9     0.611780\n",
       "21    0.611311\n",
       "17    0.609747\n",
       "22    0.608392\n",
       "8     0.608288\n",
       "14    0.605108\n",
       "16    0.589888\n",
       "2     0.589523\n",
       "1     0.584780\n",
       "15    0.582851\n",
       "Name: available, dtype: float64"
      ]
     },
     "execution_count": 19,
     "metadata": {},
     "output_type": "execute_result"
    }
   ],
   "source": [
    "# Separate the active months in another dataframe\n",
    "active_months_df=calendar_df[calendar_df['month'].isin(active_months)] \n",
    "\n",
    "# Count of availability for each day\n",
    "active_months_available_days=active_months_df.groupby(['day'])['available'].mean().sort_values(ascending=False)\n",
    "active_months_available_days"
   ]
  },
  {
   "cell_type": "code",
   "execution_count": 20,
   "metadata": {},
   "outputs": [
    {
     "data": {
      "image/png": "[encoded data removed]",
      "text/plain": [
       "<Figure size 720x288 with 1 Axes>"
      ]
     },
     "metadata": {
      "needs_background": "light"
     },
     "output_type": "display_data"
    }
   ],
   "source": [
    "#Plot Availability by Day in active months\n",
    "plt.figure(figsize=(10,4))\n",
    "plt.plot(active_months_available_days.sort_index(), 'o-')\n",
    "plt.title('Availability by day in active months')\n",
    "plt.show()"
   ]
  },
  {
   "cell_type": "markdown",
   "metadata": {},
   "source": [
    "#### II. Inactive Days"
   ]
  },
  {
   "cell_type": "code",
   "execution_count": 21,
   "metadata": {},
   "outputs": [
    {
     "data": {
      "text/plain": [
       "day\n",
       "31    0.526349\n",
       "30    0.517748\n",
       "29    0.505395\n",
       "24    0.499661\n",
       "25    0.496846\n",
       "23    0.495856\n",
       "17    0.489653\n",
       "26    0.489601\n",
       "10    0.488350\n",
       "11    0.487360\n",
       "16    0.487047\n",
       "18    0.486943\n",
       "22    0.484076\n",
       "9     0.479698\n",
       "12    0.478603\n",
       "3     0.477821\n",
       "15    0.475632\n",
       "4     0.474642\n",
       "19    0.469690\n",
       "27    0.468491\n",
       "2     0.465676\n",
       "28    0.462236\n",
       "8     0.461089\n",
       "13    0.453896\n",
       "5     0.449518\n",
       "14    0.444775\n",
       "20    0.443002\n",
       "21    0.435653\n",
       "6     0.420172\n",
       "7     0.409591\n",
       "1     0.407349\n",
       "Name: available, dtype: float64"
      ]
     },
     "execution_count": 21,
     "metadata": {},
     "output_type": "execute_result"
    }
   ],
   "source": [
    "# Separate the inactive months in another dataframe\n",
    "inactive_months_df=calendar_df[calendar_df['month'].isin(inactive_months)] \n",
    "\n",
    "# Count of availability for each day\n",
    "inactive_months_available_days=inactive_months_df.groupby(['day'])['available'].mean().sort_values(ascending=False)\n",
    "inactive_months_available_days"
   ]
  },
  {
   "cell_type": "code",
   "execution_count": 22,
   "metadata": {},
   "outputs": [
    {
     "data": {
      "image/png": "[encoded data removed]",
      "text/plain": [
       "<Figure size 720x288 with 1 Axes>"
      ]
     },
     "metadata": {
      "needs_background": "light"
     },
     "output_type": "display_data"
    }
   ],
   "source": [
    "#Plot Availability by Day in inactive months\n",
    "plt.figure(figsize=(10,4))\n",
    "plt.plot(inactive_months_available_days.sort_index(), 'o-')\n",
    "plt.title('Availability by day in inactive months')\n",
    "plt.show()"
   ]
  },
  {
   "cell_type": "markdown",
   "metadata": {},
   "source": [
    "All the above exploring was about availability but what about price let's take it a look"
   ]
  },
  {
   "cell_type": "code",
   "execution_count": 23,
   "metadata": {},
   "outputs": [
    {
     "data": {
      "text/plain": [
       "month\n",
       "2     407.867346\n",
       "1     382.065429\n",
       "12    164.219108\n",
       "9     156.181324\n",
       "10    150.027264\n",
       "11    147.509950\n",
       "8     146.121547\n",
       "7     124.526354\n",
       "6     110.661704\n",
       "4     108.988527\n",
       "5     101.945477\n",
       "3      89.849106\n",
       "Name: price, dtype: float64"
      ]
     },
     "execution_count": 23,
     "metadata": {},
     "output_type": "execute_result"
    }
   ],
   "source": [
    "# Average price per months\n",
    "month_price=calendar_df.groupby(['month'])['price'].mean().sort_values(ascending=False)\n",
    "month_price"
   ]
  },
  {
   "cell_type": "code",
   "execution_count": 24,
   "metadata": {},
   "outputs": [
    {
     "data": {
      "image/png": "[encoded data removed]",
      "text/plain": [
       "<Figure size 720x288 with 1 Axes>"
      ]
     },
     "metadata": {
      "needs_background": "light"
     },
     "output_type": "display_data"
    }
   ],
   "source": [
    "plt.figure(figsize=(10,4))\n",
    "plt.title('Months Average Prices')\n",
    "plt.plot(month_price.sort_index(), 'o-');"
   ]
  },
  {
   "cell_type": "code",
   "execution_count": 25,
   "metadata": {},
   "outputs": [
    {
     "data": {
      "text/plain": [
       "count     12.000000\n",
       "mean     174.163595\n",
       "std      105.920524\n",
       "min       89.849106\n",
       "25%      110.243410\n",
       "50%      146.815749\n",
       "75%      158.190770\n",
       "max      407.867346\n",
       "Name: price, dtype: float64"
      ]
     },
     "execution_count": 25,
     "metadata": {},
     "output_type": "execute_result"
    }
   ],
   "source": [
    "# Get statistical information\n",
    "month_price.describe()"
   ]
  },
  {
   "cell_type": "code",
   "execution_count": 26,
   "metadata": {},
   "outputs": [
    {
     "data": {
      "text/plain": [
       "[2, 1, 12]"
      ]
     },
     "execution_count": 26,
     "metadata": {},
     "output_type": "execute_result"
    }
   ],
   "source": [
    "# Consider months with avergae price over 158 to be expensive (above 75% of data)\n",
    "high_price_months=month_price[month_price>158]\n",
    "\n",
    "# Get names of high price months\n",
    "expensive_months=high_price_months.index.tolist()\n",
    "expensive_months"
   ]
  },
  {
   "cell_type": "code",
   "execution_count": 27,
   "metadata": {},
   "outputs": [
    {
     "data": {
      "text/plain": [
       "[4, 5, 3]"
      ]
     },
     "execution_count": 27,
     "metadata": {},
     "output_type": "execute_result"
    }
   ],
   "source": [
    "# Consider months with avergae price over 110 to be expensive (less 25% of data)\n",
    "low_price_months=month_price[month_price<110]\n",
    "\n",
    "# Get names of high price months\n",
    "cheap_months=low_price_months.index.tolist()\n",
    "cheap_months"
   ]
  },
  {
   "cell_type": "markdown",
   "metadata": {},
   "source": [
    "- Based on the above analyzing:\n",
    "    - Prices increase in Winter season, mostly in December, January and February\n",
    "    - Prices decrease in Spring season in March, April and May\n",
    "    \n",
    "So we can apply some rules to get the best time to visit Malaga:"
   ]
  },
  {
   "cell_type": "code",
   "execution_count": 38,
   "metadata": {},
   "outputs": [
    {
     "name": "stdout",
     "output_type": "stream",
     "text": [
      "Active and expensive months : []\n",
      "Inactive and expensive months : [1, 2]\n",
      "Active and cheap months : [5]\n",
      "Inactive and cheap months : [3]\n"
     ]
    }
   ],
   "source": [
    "# Get active and expensive months\n",
    "print(\"Active and expensive months :\",list(set(expensive_months) & set(active_months)))\n",
    "# Get inactive and expensive months\n",
    "print(\"Inactive and expensive months :\",list(set(expensive_months) & set(inactive_months)))\n",
    "# Get active and cheap months\n",
    "print(\"Active and cheap months :\",list(set(cheap_months) & set(active_months)))\n",
    "# Get inactive and cheap months\n",
    "print(\"Inactive and cheap months :\",list(set(cheap_months) & set(inactive_months)))"
   ]
  },
  {
   "cell_type": "markdown",
   "metadata": {},
   "source": [
    "#### In Conclusion\n",
    "\"March is the less crowded and most affordable time in year to visit Malaga\""
   ]
  },
  {
   "cell_type": "code",
   "execution_count": null,
   "metadata": {},
   "outputs": [],
   "source": []
  }
 ],
 "metadata": {
  "kernelspec": {
   "display_name": "Python 3",
   "language": "python",
   "name": "python3"
  },
  "language_info": {
   "codemirror_mode": {
    "name": "ipython",
    "version": 3
   },
   "file_extension": ".py",
   "mimetype": "text/x-python",
   "name": "python",
   "nbconvert_exporter": "python",
   "pygments_lexer": "ipython3",
   "version": "3.7.4"
  }
 },
 "nbformat": 4,
 "nbformat_minor": 4
}
